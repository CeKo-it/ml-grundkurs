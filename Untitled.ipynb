{
 "cells": [
  {
   "cell_type": "code",
   "execution_count": 1,
   "id": "9d1eb8b3-2b2b-4b5e-a1a7-638a769ce5ae",
   "metadata": {},
   "outputs": [
    {
     "name": "stdout",
     "output_type": "stream",
     "text": [
      "Hello, World\n"
     ]
    }
   ],
   "source": [
    "print(\"Hello, World\")"
   ]
  },
  {
   "cell_type": "code",
   "execution_count": 2,
   "id": "08206354-b35e-411d-9c8d-1bef6f78224c",
   "metadata": {},
   "outputs": [],
   "source": [
    "def hello_world(name):\n",
    "    print(\"Hello\", name)"
   ]
  },
  {
   "cell_type": "code",
   "execution_count": 3,
   "id": "48af551b-baff-4806-a829-fab9fef4f86a",
   "metadata": {},
   "outputs": [
    {
     "name": "stdout",
     "output_type": "stream",
     "text": [
      "Hello cedric\n"
     ]
    }
   ],
   "source": [
    "hello_world(\"cedric\")"
   ]
  },
  {
   "cell_type": "code",
   "execution_count": 4,
   "id": "04e8a735-d247-4fb7-9030-697457a1b851",
   "metadata": {},
   "outputs": [
    {
     "name": "stdout",
     "output_type": "stream",
     "text": [
      "Hello nicht cedric\n"
     ]
    }
   ],
   "source": [
    "hello_world(\"nicht cedric\")"
   ]
  },
  {
   "cell_type": "code",
   "execution_count": 5,
   "id": "0b228ad0-c1e3-45c4-80cb-c02d1f4b301a",
   "metadata": {},
   "outputs": [
    {
     "name": "stdout",
     "output_type": "stream",
     "text": [
      "\f",
      "\n"
     ]
    }
   ],
   "source": [
    "clear()"
   ]
  },
  {
   "cell_type": "code",
   "execution_count": null,
   "id": "14f93544-6e65-4954-811f-51ac5abbc185",
   "metadata": {},
   "outputs": [],
   "source": []
  }
 ],
 "metadata": {
  "kernelspec": {
   "display_name": "Python 3 (ipykernel)",
   "language": "python",
   "name": "python3"
  },
  "language_info": {
   "codemirror_mode": {
    "name": "ipython",
    "version": 3
   },
   "file_extension": ".py",
   "mimetype": "text/x-python",
   "name": "python",
   "nbconvert_exporter": "python",
   "pygments_lexer": "ipython3",
   "version": "3.11.5"
  }
 },
 "nbformat": 4,
 "nbformat_minor": 5
}
