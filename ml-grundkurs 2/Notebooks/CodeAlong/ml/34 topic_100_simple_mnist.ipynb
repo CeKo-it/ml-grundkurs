{
 "cells": [
  {
   "cell_type": "markdown",
   "id": "bcbd65199c922278",
   "metadata": {},
   "source": [
    "\n",
    "# Trainin Neural Networks using Skorch\n",
    "\n",
    "Skorch is a library for PyTorch that simplifies training in a Scikit Learn"
   ]
  },
  {
   "cell_type": "code",
   "execution_count": null,
   "id": "b32d752b19039c14",
   "metadata": {},
   "outputs": [],
   "source": []
  },
  {
   "cell_type": "code",
   "execution_count": null,
   "id": "4ed25ac6f67e39fc",
   "metadata": {},
   "outputs": [],
   "source": []
  },
  {
   "cell_type": "code",
   "execution_count": null,
   "id": "60e127ab0c335c1d",
   "metadata": {},
   "outputs": [],
   "source": []
  },
  {
   "cell_type": "markdown",
   "id": "127069718cdd2026",
   "metadata": {
    "lines_to_next_cell": 2
   },
   "source": [
    "\n",
    "## Transforming the data:\n",
    "\n",
    "Neural nets generally expect their inputs as `float32` (or possibly `float16`)\n",
    "values. Furthermore `skorch` expects classes to be stored as `int64` values,\n",
    "so we change the type of the arrays accordingly."
   ]
  },
  {
   "cell_type": "code",
   "execution_count": null,
   "id": "cfd0e658c7153353",
   "metadata": {},
   "outputs": [],
   "source": []
  },
  {
   "cell_type": "code",
   "execution_count": null,
   "id": "67bef51edd3e35ef",
   "metadata": {},
   "outputs": [],
   "source": []
  },
  {
   "cell_type": "markdown",
   "id": "8971e8845dd2cfcc",
   "metadata": {},
   "source": [
    "\n",
    "## Normalize / Standardize\n",
    "\n",
    "Neural networks generally prefer their input to be in the range $(0, 1)$ or\n",
    "$(-1, 1)$ so we need to convert the integer array to floating point:"
   ]
  },
  {
   "cell_type": "code",
   "execution_count": null,
   "id": "7bfa3ef18e39c47c",
   "metadata": {},
   "outputs": [],
   "source": []
  },
  {
   "cell_type": "markdown",
   "id": "b6f73f4a0b05319f",
   "metadata": {},
   "source": [
    "\n",
    "Don't use `Standard Scaler` for this data, since it will scale each feature\n",
    "independently:"
   ]
  },
  {
   "cell_type": "code",
   "execution_count": null,
   "id": "2c7ba1c62f8d6701",
   "metadata": {},
   "outputs": [],
   "source": []
  },
  {
   "cell_type": "markdown",
   "id": "e9d5b09961cea181",
   "metadata": {},
   "source": [
    "\n",
    "Since we know the range of the value, we can easily perform the processing\n",
    "manually:"
   ]
  },
  {
   "cell_type": "code",
   "execution_count": null,
   "id": "f14fc725ba72ea79",
   "metadata": {},
   "outputs": [],
   "source": []
  },
  {
   "cell_type": "code",
   "execution_count": null,
   "id": "311c807d3cdd4ba3",
   "metadata": {
    "lines_to_next_cell": 2
   },
   "outputs": [],
   "source": []
  },
  {
   "cell_type": "code",
   "execution_count": null,
   "id": "eef3a5cb9d05ccb0",
   "metadata": {},
   "outputs": [],
   "source": []
  },
  {
   "cell_type": "code",
   "execution_count": null,
   "id": "7c27f27c011051a3",
   "metadata": {},
   "outputs": [],
   "source": []
  },
  {
   "cell_type": "code",
   "execution_count": null,
   "id": "8ec9a9d9681ea84f",
   "metadata": {},
   "outputs": [],
   "source": []
  },
  {
   "cell_type": "code",
   "execution_count": null,
   "id": "481ec262334f9178",
   "metadata": {},
   "outputs": [],
   "source": []
  },
  {
   "cell_type": "code",
   "execution_count": null,
   "id": "b3697a269544baa7",
   "metadata": {},
   "outputs": [],
   "source": []
  },
  {
   "cell_type": "code",
   "execution_count": null,
   "id": "e819939dabbd81c0",
   "metadata": {},
   "outputs": [],
   "source": []
  },
  {
   "cell_type": "code",
   "execution_count": null,
   "id": "1cc571b3ef06a1da",
   "metadata": {},
   "outputs": [],
   "source": []
  },
  {
   "cell_type": "code",
   "execution_count": null,
   "id": "cd6fc56c31a8cc92",
   "metadata": {},
   "outputs": [],
   "source": []
  },
  {
   "cell_type": "code",
   "execution_count": null,
   "id": "ff286392fb80225d",
   "metadata": {},
   "outputs": [],
   "source": []
  },
  {
   "cell_type": "code",
   "execution_count": null,
   "id": "1748ecf13a897c93",
   "metadata": {},
   "outputs": [],
   "source": []
  },
  {
   "cell_type": "code",
   "execution_count": null,
   "id": "4bfb5bfd8eaa70c3",
   "metadata": {},
   "outputs": [],
   "source": []
  },
  {
   "cell_type": "code",
   "execution_count": null,
   "id": "6b4e03423667dbb7",
   "metadata": {},
   "outputs": [],
   "source": []
  }
 ],
 "metadata": {
  "kernelspec": {
   "display_name": "Python 3 (ipykernel)",
   "language": "python",
   "name": "python3"
  },
  "language_info": {
   "codemirror_mode": {
    "name": "ipython",
    "version": 3
   },
   "file_extension": ".py",
   "mimetype": "text/x-python",
   "name": "python",
   "nbconvert_exporter": "python",
   "pygments_lexer": "ipython3"
  }
 },
 "nbformat": 4,
 "nbformat_minor": 5
}
