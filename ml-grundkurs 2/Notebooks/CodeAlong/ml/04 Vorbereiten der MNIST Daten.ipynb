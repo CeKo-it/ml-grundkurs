{
 "cells": [
  {
   "cell_type": "markdown",
   "id": "73e701503d2907ac",
   "metadata": {
    "lang": "de",
    "slideshow": {
     "slide_type": "slide"
    },
    "tags": [
     "slide"
    ]
   },
   "source": [
    "\n",
    "<img src=\"data:image/png;base64,iVBORw0KGgoAAAANSUhEUgAAAG8AAABuCAYAAAApmU3FAAAEtmlUWHRYTUw6Y29tLmFkb2JlLnht\n",
    "cAAAAAAAPD94cGFja2V0IGJlZ2luPSLvu78iIGlkPSJXNU0wTXBDZWhpSHpyZVN6TlRjemtjOWQi\n",
    "Pz4KPHg6eG1wbWV0YSB4bWxuczp4PSJhZG9iZTpuczptZXRhLyIgeDp4bXB0az0iWE1QIENvcmUg\n",
    "NS41LjAiPgogPHJkZjpSREYgeG1sbnM6cmRmPSJodHRwOi8vd3d3LnczLm9yZy8xOTk5LzAyLzIy\n",
    "LXJkZi1zeW50YXgtbnMjIj4KICA8cmRmOkRlc2NyaXB0aW9uIHJkZjphYm91dD0iIgogICAgeG1s\n",
    "bnM6ZXhpZj0iaHR0cDovL25zLmFkb2JlLmNvbS9leGlmLzEuMC8iCiAgICB4bWxuczp0aWZmPSJo\n",
    "dHRwOi8vbnMuYWRvYmUuY29tL3RpZmYvMS4wLyIKICAgIHhtbG5zOnBob3Rvc2hvcD0iaHR0cDov\n",
    "L25zLmFkb2JlLmNvbS9waG90b3Nob3AvMS4wLyIKICAgIHhtbG5zOnhtcD0iaHR0cDovL25zLmFk\n",
    "b2JlLmNvbS94YXAvMS4wLyIKICAgIHhtbG5zOnhtcE1NPSJodHRwOi8vbnMuYWRvYmUuY29tL3hh\n",
    "cC8xLjAvbW0vIgogICAgeG1sbnM6c3RFdnQ9Imh0dHA6Ly9ucy5hZG9iZS5jb20veGFwLzEuMC9z\n",
    "VHlwZS9SZXNvdXJjZUV2ZW50IyIKICAgZXhpZjpQaXhlbFhEaW1lbnNpb249IjExMSIKICAgZXhp\n",
    "ZjpQaXhlbFlEaW1lbnNpb249IjExMCIKICAgZXhpZjpDb2xvclNwYWNlPSIxIgogICB0aWZmOklt\n",
    "YWdlV2lkdGg9IjExMSIKICAgdGlmZjpJbWFnZUxlbmd0aD0iMTEwIgogICB0aWZmOlJlc29sdXRp\n",
    "b25Vbml0PSIyIgogICB0aWZmOlhSZXNvbHV0aW9uPSI3Mi4wIgogICB0aWZmOllSZXNvbHV0aW9u\n",
    "PSI3Mi4wIgogICBwaG90b3Nob3A6Q29sb3JNb2RlPSIzIgogICBwaG90b3Nob3A6SUNDUHJvZmls\n",
    "ZT0ic1JHQiBJRUM2MTk2Ni0yLjEiCiAgIHhtcDpNb2RpZnlEYXRlPSIyMDIwLTAyLTEzVDE2OjQ4\n",
    "OjM2KzAxOjAwIgogICB4bXA6TWV0YWRhdGFEYXRlPSIyMDIwLTAyLTEzVDE2OjQ4OjM2KzAxOjAw\n",
    "Ij4KICAgPHhtcE1NOkhpc3Rvcnk+CiAgICA8cmRmOlNlcT4KICAgICA8cmRmOmxpCiAgICAgIHN0\n",
    "RXZ0OmFjdGlvbj0icHJvZHVjZWQiCiAgICAgIHN0RXZ0OnNvZnR3YXJlQWdlbnQ9IkFmZmluaXR5\n",
    "IERlc2lnbmVyIDEuNy4zIgogICAgICBzdEV2dDp3aGVuPSIyMDIwLTAyLTEzVDE2OjQ4OjM2KzAx\n",
    "OjAwIi8+CiAgICA8L3JkZjpTZXE+CiAgIDwveG1wTU06SGlzdG9yeT4KICA8L3JkZjpEZXNjcmlw\n",
    "dGlvbj4KIDwvcmRmOlJERj4KPC94OnhtcG1ldGE+Cjw/eHBhY2tldCBlbmQ9InIiPz63ZYCCAAAB\n",
    "gWlDQ1BzUkdCIElFQzYxOTY2LTIuMQAAKJF1kc8rRFEUxz9miDCNYmFh8dKwQoMSG4uZ/Cosxii/\n",
    "Nm+eeTNq3szrvZk02SpbRYmNXwv+ArbKWikiJSsLa2KDnvM8NZI5t3PP537vPad7zwVfPKMZdmUY\n",
    "jGzeio1ElJnZOaX6ER8BgoQJqJptTkwNxylrbzdUuPGq061V/ty/VreYtDWoqBEe1EwrLzwqPL6c\n",
    "N13eFG7S0uqi8LFwhyUXFL529YTHTy6nPP5w2YrHouBrEFZSvzjxi7W0ZQjLywkZmYL2cx/3JfXJ\n",
    "7PSUxFbxFmxijBBBYYwhovTRzYDMfXTSQ5esKJMf/s6fJCe5mswmRSyWSJEmT4eoBamelKiLnpSR\n",
    "oej2/29fbb23x6teH4GqB8d5aYPqDfhcd5z3fcf5PAD/PZxlS/m5Peh/FX29pIV2IbgKJ+clLbEF\n",
    "p2vQfGeqlvot+cV9ug7PRxCYhcZLqJ33evazz+EtxFfkqy5gewfa5Xxw4QtXymffaj9hFAAAAAlw\n",
    "SFlzAAALEwAACxMBAJqcGAAAIABJREFUeJzlfXu0b1V13jfX/l2UkAAXiq/EWkg0RqUaBO5BEB+A\n",
    "WKtG6qtWeZnRtCYmgThUvJfRdDQOBAtc2mSEGJuhJn2oNcPwGFZSgmmAG84JAgKS4QPIQ2OVIgIR\n",
    "kbP3mv1jrW+ub+177uUROIfENca5557923vttefzm4+1f4a/R2PpfX+wCfB/6o4XmuHpDuwDYG94\n",
    "3gfue8PSPoDXY74PAAPsO4DfBeAuuH8HwF0wuwue7wLwHbjfCUvXA37j8gfflDfy+R7usI1ewK7G\n",
    "0taLDDYcDM+HAX4oYIcC+WA4ngAA7hPMBgAOdwBe6W78fwLgdTYHcgZMH9fkcwDu9wC+A+5XAX4l\n",
    "HCvL5/2r+x/r5/y7jMcd85a2XbwZ7qcC+LcAngnPgA0AMjxnmBWmuDvgXp7AEpAn8HEsJXge42+4\n",
    "F4bWa8v59XOzem0dZuV4Hh+ApRUAvwXg48vnvkVOenyMxw3zlrZd/NNw/BLS8GZ43hNAIao1BrhP\n",
    "hfAuGgPv/7bUtJDHybjQSqsM9TI/f8OLMpoV5lpo71fhfjaA310+762rjx0VHt7YcOYtbb14APw/\n",
    "AHYG4Ina4NMIS9Q4B+AwS4WBYRKt0p4MyeUnLapmoTGHn9NUUlvNeoZ3x0RjPQPufwXg/cvnv+3D\n",
    "60qkXYwNZd7Stkuejjz9D6ThyJD+PAFpCLPmnmFpUc1gHe5ACoIKgyB/k1FJTKM3xtJ02tBrKjUw\n",
    "tDNXjfV2rk8fhg0/v3z+22RR6z82jHlL2y55CoDrAH8qcg/y3Au4MBt2YlrxZ5XBXnygT+MMjPjO\n",
    "ZnH+GdD8GzXWrAKbVE8VkFNQEYJkZp+F+xuXz3/b3z5qRHmYY0OYt7T1ogFp+CPk6SWFeFMjWIwC\n",
    "Skx8XPkbDazU84KwlprWzU1lZxpz0dz4HLO50LRVGRpgZrX8TmkF03Tk8gUnb4gGzim2PsPSL8Hz\n",
    "S4pvQTFl1gjpOQOwWw32e3D/IOB/6PD7GuKk9Nd/lPHho1zCh6F95t4+h/faFXPItY6i5TzXpzKf\n",
    "GTCtHg7kdz0WJHooY4M07+IvwfCsnTSgEPT7gJ0J+PnXfOCEUIstZ/z+QfD8EcCODlNIwpMRadH+\n",
    "n6uvUpNM9NihTAkbwr+hHR8W5bjOE/cbAM/fA9LBy9tPvPWxp1w/1l3zls689KcAPKuBAxS/FmbQ\n",
    "zrjmA687VxkHAMtnv/42IP0zAF+J2DotGrRPi+a7GL8V0ybocaomcyi/PUtIgP4ar2FdzsA0NoZb\n",
    "qnOGOd8Tnn/lMSTZLsf6m808Pa1QvHIgZ1g1AA6/BZb+064uXT7n9ffB/Vfi+jw1rXA035THerwy\n",
    "K5AoKuMkflQtpp9k0E4/aalqoBemamhS5njto0ylhzTWn3nue9e0SDsEr+gyXXnNWa/1XV8MwOxK\n",
    "5MnDjwFNU+bprzTIMQ0hNPbj6akxK9bnTStpHQInTW2ePP7YltM++pOPiB5/h7H+zFNixqGB0P7r\n",
    "D3b58jlvuBuGv21xW2rapXDeJ0l7iX8LBlHbqKFjM5VqGTT/GdfIOQ3wbH5kBHnkYyM0L6TbyYD2\n",
    "4Qse7PIt7/mfB8GGHwngEUBCgErn9/gZ/5uFSWjnpEHSYdbmVpNr1pAnNd8oPHmvh0WHR2FsgOYl\n",
    "78ICAD6twvMq3P2YLe/91NN2P4Gf2IJqAQ5e0WZ3qve/89SHCpGoBpoPo7kU5jOjA2tpNxfGlucS\n",
    "O74+YwM0L7vnqeUjCenLUvaBpd9Zet+nn7DWpVve+6kluG9rlQY0eM+Umqmv85YWAyT1RWZULVNf\n",
    "F0E7E9XU6LGZyC75zZBk/YsOiwc/5VEelqqgGzyPsKH4O28EeKXDPr/lvZ86HcCO5XPe8N0t7/nk\n",
    "gYCfBPdtSMOmIKrGekDlUZ5pHHOSqiVDQ6oMDyLXSbSp9b6aI63rLxUOF3xkcKx/HXfdmec+eanM\n",
    "5JK7nCTOipPwXAB/CEt5y3s+eS8s7dOZyqzpNEkYIwMZDcQwpZXrZ/Rb02rVzkFCi6mFEWloZjUL\n",
    "uDEAuRy3xDiPHFz/fMeGABavIMMJ77uaGhoC9Jxqa0Pzb6yIa+qr0yoBIG0elOpCnZtZE0B8GEow\n",
    "DrRrVDOT3CeY5pJEX39Srvsdzcwh5ibCBE1XdflGia20YFoub+dS0wL+s56X+nlMtDLCCxEGZZiW\n",
    "hSRn6vF3ERCnP1znse7Mcy+9C5TUIEQgwrFnQjkLkdmofStdgB3aKNobGj37LO4nzCK6JIiJFFgV\n",
    "FmpdvcYkK2NpKBmieXJ7HcYGmM2pl9ZgkPgoVhriGgnC5y0Olsq10aOC5hej4sCAWq5vGeimpXls\n",
    "xVqGFU7EWgcjAiuFYneHw2vMur5jA0pC5s1PqUZQuxRF1thK+1aiilCD7TxJ2CDEZqI6j81carmo\n",
    "TIZoYAKkKmFtroj35uZVwQpm/1+fsQGhgt0F+EoLkGexVaC+DJiEBABCe9pkaFpnpUhqYu48HwBL\n",
    "B3btFWFGJTfJtczBEOF/lK5QUHIaaqhg1exjQ3zeujNv+ezX7wCwZT3uteVd//3nkFc/1CHNAC1j\n",
    "0zr1i+5NeCAJ7yo0BgNbED2P5TfyRijeBlXS12uwvcIgOc+ZSQaaKaU/Y1amlXzanEY5GMWkAj8Y\n",
    "ZnM9R2vZqwckrUWTnTMwbEIgWogZlbjOvSYVKsii6fRJTXU9/Uuv2gTg2e2AmHqa4HLsfqT0NfvJ\n",
    "z3zvkTzeI2be0taL/gmAFwD4EcD38pz3CB8QNbBqTtT5R85Q4qkOtksdTf2Ipq26Vr00+5znJ8Dz\n",
    "i5qpBKKaEAG/oEzXBHWZ130M80gNNjcgLcpzaryow+zpyPnGFn9KImKo2j1NwUS/5fhvYpo+gyH9\n",
    "N6T0OXv2Zx+SA31YzFvadslzkafTYDjO8/QMmDVj0bXIsebFzEaF85GqYkklz9oQagzHdJYy2q0x\n",
    "wazMC0k6M/Ofs/ipSoMk3oHCFOkzHuzDDc+rpVBAgJInwAWgUHNZlVBBIzN530kySWPtPOMYRwB4\n",
    "MobhVOR8Kgxf8FuO/1l7zmWffzB+PCTmLW296KcA/Cry+EZ3T5Y2ITqVE3srrVTEA9ExgwE0xqnk\n",
    "A/DKAEWTXe1NiqkkUszhHbEjRLCESDzrCHOVmxWIuayhyDzV7rRZ0M/1dTW/mWWY34u1Rs0WJUky\n",
    "hPmsP0Xgng9g2W865gKkdKY993/vcrPLgwKWpW2XnAazm+H+ZqRFsnkPiDNRO7RUF9vRI+huaC0W\n",
    "O60CzhhsjQxFxFGM8yDxWDU9adGIaJU48WQsrgoTtOJe40P2gFptKrKUyrF54G1SPO7mUZ/Ke6fW\n",
    "tMTPh6Ektdlvw2ec6ArQaJB9APAumH3Cbz52l3XC3TJvaetF5wDYDs8p6mXOHTq5Pmiu8HmqWZOp\n",
    "ma2utQBlkWmoi2fCl5IM0VhJWelxDs1fMl6DVWZWjexKPgI+wtQVs12sKBkx1tuKH2Uuk+uf+1lp\n",
    "pIoRjVAtPsS4Kv5fsMBClGGamvkv87wW7h/aFX/WNJtLWy9eAPnDMDslNElQGptenf6LD2KMjypx\n",
    "tR1PC6gBSKb2kNTSaSzoL1Jn1KxZlgVDIcA0NkKQwMEsxmqV4SRK5EfJoLKZxYZF067a09btTCKo\n",
    "0awQ5LY6VGiGoWlgqpYkz0KRaSqfASJ0BsB/1r/wsm/a8z+3bc6ntTXP0llAOqXFRnG8oLA8VdNS\n",
    "Vh3mJczpPL1Ua2eay9SgmAum1NHkkNH0ozQt0XPJuI0mVh6c9yUz6V+8AhptgIo8p7d1eC4+XEtO\n",
    "XaUjt7/Dt5Oq2maB8jyhmXIvjhAKNFNKC1TQ6lb/wste+qDMW9p26cHw6fQwWyGZU0VcxVx2N2cQ\n",
    "PG/0mZswhda6BYvt7juVdupc02qbs0tAo80BZaBIddTrhGA2NEJV0112IjUA07RNLEeUoxTQ9DFe\n",
    "WS/jxWo1hmrgOsBEoAVhNh8jiaYygZB+bbfMW9p2scHzhQAWXFTEbZVAJZMucVkEwd7MU0dINGaE\n",
    "mVMgUn0XyyoEHurjorIdpgTR/cw+mLgZeq1QjYxTKqGs7PcrlkRQL58nykv1+V3vMbVzZ7ucwqpM\n",
    "UzmdoYIKb3QQzEDPsEYpqtDiKL/5uFfuknlwfzs8H9mYUbuZxdwZWwd0oXyIIK7U4whcaMLU9HRz\n",
    "eDOjMZcjup6VgXwgvQcRZAT6aASJ0hAJS186iSZhdo6uR4QjGKv+G3IO+nZ4Pi5Nfao0YDVfa4cE\n",
    "LDxOS8C5p/H9azJvaetF+8HzOVGnmka0doXysNwPHg+VhjUemGiTU1szF3NU2ZlVl9jMW0tCwOc6\n",
    "r2p7hAre5gsi8wmHdj4tQzAacg1ijYY1BDJMKoShJmHL0Cbi/MmaeeZzMDTIUwUt1LihziXuIwlj\n",
    "i+97oX/hZSfsxDwAr0da7A+vm/bVRDWSCFDxtkitXishwyyuUadTgpJwFIaYYwZCyCyb/9Asz7Sb\n",
    "Bd9KYBZPkYYGGQQYmACyZjabiQ2hCCwgXdl5ujMIRUtBk06XQS0jIEvCKPrJCOyBTvsbuj1pDebZ\n",
    "axRVlcfPwazYE6caFLtW6cBpwggWZoleMoeL73wTmu0PM6rVcGEGGRuwXvxuWIYJGDbB81iSx1Uo\n",
    "zQzclWRm8Vw2LJRATUs7nyrWJExvmNK2xcvQC2wgXQfGSTatCA1oNlF9ZeVD0GQKIXmpX390itVs\n",
    "ed+n9wT8WBLLp7FpWP3tObfEcOcjKqHClXlPhDhXfGcSUxupJjEt4QuGZi41YzNvoaD5oykXrbe0\n",
    "6PKv7r2AEJC1JAN9GgVKgImJC6BFKWu6a+U3f+HuYJ7jhxroIAPQJ+qDJmjAJqWegdPUBIfmMw37\n",
    "AnaIitIxAPYMems3sRJZQYQGw47mo8BFUmMk2CYzuz0ALueiI3znc9RfMfaKdjxv6xO/2e2FMPRz\n",
    "1vCnnKoMErChg3Nr7MvKhPtt/cnYjNnlSAnYJD6a9NAYOdamzEqx3qAP8HKgMe81ZS0JDm/pIfqP\n",
    "eWNsgAPmLtE+VyDCDAcJQyIGQqsPEYlqMUXA7CFl9yofQs1y+EoLKbeaj6Rv8067lbo0+anN26Fe\n",
    "yO96r7SogGIA4F/pGOX5yQ0zoAnjRDch1omt+cMafaH8m0E7Ndi9MG9p60UGz6/2PNYgvEqsEpSp\n",
    "LDJTt0JRGud+kAuIWlldTCR1yUlv53BOoAGhPJZjBACRlSdjUyM2rwPi/OLnNOCmkJBpMxVRJmpI\n",
    "MNV10OfHtjAHHB/tJ7FDIpaLa9GupwmdRrFimIVD4mLCDdWflI7y64/elAAcbGnT07pMAaVOW73Z\n",
    "EtehTTWHEJ8DMWEm51eNC5RIAqqJFOK6EI+f5zESyEHI3cRlDMDL+1x0syUagTSeUs1IA0pTkyLa\n",
    "qlFtrdevXPgLl80E4NAODSexPjS7QwVvAzu7s1gSQdFAu74h2L3gfngC8AyP+MmDwxEuKEgwiZnI\n",
    "oFhY7n9Dru2y8MLIebqL85LIEdPVefOIYqqHnshdeGJ9bFeRqWkIQI2nCeR6w0QrwJgxrSsLATA7\n",
    "u+PbLcfvA7MXt8Ba/CkZMQzSWs+YlWkwEX5eT6aPYwM9ln5iAfcnGayP39Ls5TV8OB8BWwBWzUaH\n",
    "nOjkO6kUTSDQQBAUruhtQlTd1ZSF7xDtjHQa47oGcFwyQy6C4socCkggOfU3uS8ok9nRgsF1AnC/\n",
    "Co5PdWTK+U0wPHEnwEJGKWPU6hDkaSot3mihvjeu2y+55wN6U5b6XJ0iHfo++sQOneXGJI3/mAmx\n",
    "AQ3V5fZDn8bqt27yiLixmkma6nnch5pvZes56muvQivFZ3DNaiki1qoE5prYOa2Zm2YlbgDw6pUL\n",
    "3ynEAmB2SnM3aDSdB9vamhHgSxirrznRYyzowvZPgD/JmeDtHnbmz8qCZwxV/8HfDGylKKsxEc3g\n",
    "fN4u3yemMF4nlXsiaPAPlEqH50qvYq7DelDbg2FTM8XhRyqj0tBnepJaAoIGfBnA8SsXvrPFdgD8\n",
    "pmNOgOFFYDhkQhemuvi8I4W2Mneeu233apoIIbn7fgnuB4APTM1R6Qy4LhNxMRGDCfoLPyPMzFPf\n",
    "rxEmgMldQaJdloMIsoYc1VRHpcPLG5FomlvFm+ZbQBj3IYRGpGYeO8FySV/NUnSwDPffgOfDVi58\n",
    "57c6xt1y/N5I6deDaewYMDT/FiBQ6McffemPXk9hXXDtwdj9F7DhgCKxRIaE/VRXJaS3vF0XB1VH\n",
    "qy8oXdPUKKiRRQdA8fbAZs2UpiTINcGqz/W4m9ellDY9r1UNs6H4QEW1FJBAyxA0twnRbq9pwPJW\n",
    "ps/B/d+tXPjOP8NaI+f/iGQ/iuw1IS0WbBiKpnVIl5ZlRKcsVgVrHAvDXOitRemU9l8grz6ptB2o\n",
    "TxATGnvGrRJWu4plIT5jfqOsCINoH48HoYTp80KofqadyqGB3PJn3Y8Hg6g9VZvYHjgfLn7H7Btw\n",
    "fAbApUC6fOXCd6z5dj//4nEJjv8M+M9h8mak4vmtCUxknKgIEkrlXJjOdghqIbCz0PsEjHm/BVLR\n",
    "vI6ovtODtGNm4NbeLh5TbmlGJgCQmGMtnoapSwCQYelr8PwXgN0Oz7fD7K8Af6CthUAJMNkn7gGk\n",
    "ir+1oXaGdY7HKbVNSLUoCn8ANvw/AN8A8KWV3/z5uXeeMe4VewD4r0h4Y6EJetPfIdrUEOQglksz\n",
    "TzTnzG+yd5XghY26AJBs/wXcD2iV4txu0nG6SvicYRFbAXBrksZrWVCcB9uxWJqA4Vb4tB2eP7p8\n",
    "wanf3R3BHg/Dv/iKAYZ/AeAMTNMhzS2gPN+waIzScABoTCATeYznpxqGgGCtCoFBqhEZsLRfeYWs\n",
    "2RNCAl1UOfyeMqT+bUCX0KW50tTaTv8XiSztENfBcBZ8+vTy9pN7yP04HP7F4/aCpVORp9PhdlAD\n",
    "EIqIKw0m8Z0BSmoBNlnNsFifOovwoTJ8IUKgKLT8f7GApW8jT3t1BVTaVUV+mrkgpI662moDFVrR\n",
    "ZjosNLf6xDwBw/AJ5Omk5e0nP7Bbgt36WoPj2UjpqQD+Edw3qa8Ln7xYAKurAqYaIu2C/m5y75+R\n",
    "xwAgT3vA7BmwdCA8HwjgQLg/Dcy0s0o+DDWwJt1nYEVjNEuAMVTKxVrRtC4WBaRELnMWMpDp4bL8\n",
    "jgXc7wTs6bH4OVzv8p2KzrwRJikqym3xSowIrg2A/wbcf3lX2ua3n/DDcH8F3P85gFdhSE9ppRNF\n",
    "sYKIV1clTuR5NF1o66af0fgt1wLpODYm0DoshkJI+u089oRG1SICuoiXp1Y1j1dEyr1ppZgO0zQa\n",
    "aa3YgoicG04Ndyxg9u0mhYKGIoshMVDEdSSIossZKtQ4K2fV2g8tX3DKL67JtNtedxhS+jXk/DJ4\n",
    "3iPMM32Hmhb2oOi7U0ZaAAVSQORgdcOH1hR5zWJRN4IAARY4ZwgKWpYj6AW00EJACIWAvmwcWwMu\n",
    "QwKuTWNb3oda7UJfPlv2b1XNkws7rRHg0pkXQXHsPiYRyVQyXetw7l+DpXfvxLTbT9gHwFkoX4RR\n",
    "uBPhgtwvbsv1oPkM9oOQoMq8ObKLG3tjqhKGWhfPVCV+FLRHLaegJ12P9UIUAizaxmegxiUqhstn\n",
    "uc3lst7yHHcsANxZ8o6y6aNDSJVBXfZCCShmkk45pcKDQJxBzF9cvuDke2eMezLMrgTwzK5NgPPx\n",
    "4RYJmBxRP9xUY9Ms4QnkWhKN/khNJC1EEFilXyxLlzRGAxqrouFRRKXgcK6ZBSsLateR2fVwFFwZ\n",
    "zpBRhvLcerwo0h0LAN8ugEO+SEIz+J2ZRNOmSOmkoEVZHOcRphe/tGP5gpP/oGPcrT+zL+CXwf2Z\n",
    "gUJpWiiB9K9Tbg8ENLMXcafJGivT1io30UcpWOEPG4KzfGbWgMJ8h5TGcXm2PiL30LrKtGkqjbWj\n",
    "Jjkga8lFq8kwVt/p64Pu9q0En+4MBjHumL8ag1II1NZzmjCaqGpC9c14ob0RoH+kY9xtrxswDJdi\n",
    "ys+PhyUImGfY1VxqtkQDYK41KumpgQEOJocJyghCumNimgIhVwZyz0HkQ2XOiJUpUFPzjWRaZLFQ\n",
    "zaSXOQZZv5pOBTkqbFXzElABC9M1hgL9g8piOkmAcN6cXJtnNBasmgi7HzZ8sqck3oBpPLKLIwfZ\n",
    "vcNANsydEHyetVDfxnP1Nz9T4k/in6PBNzXfM69+Z0oQL7PGFGZEGLsF4+u5C/nqAQbwleQlkSLm\n",
    "VTW1s25MkjgTH99K8PzVDmzk3BjVDXX+ufkeGOLteZGzEwRaNPZPlrefeM9swjM6BpBZ08xEa72N\n",
    "95//n0HxnFkkRgfRhSGGHq6vFRMGgEDTyHk7BURoKEya0spiwsO6uIAs5aS3+QKJkt402QYMw18m\n",
    "pGEZebyvI1j7o03UESv3Gth1JgtYCH/p13b0uO11rwT8BYHq4vz6QLx1wO46V0BsIZzC/W4blyDk\n",
    "WKcgOYIE9enh66oQae1xlFdakVFKM01vxT1TLeUQnHhDnJoLzt7ckJpJ9b2ct1igr9uhV9+Ulj/4\n",
    "plUAV3WZFd0xoxl+QJx6bsejoCmV8ngwA/J0PfpxcixwsakndHBOhaTeN8ykCJKO+JvmGmJWvfdN\n",
    "ASzQGNglJyp9Ax2KT5s34ur9wxx7M6lMKJNJfL7AAxJGwFr2SunY3+9SgDFVnq5oDEqifSqp9WZE\n",
    "f3GMNlhU2oSRAJCG/9stIqVntUR/tfe6NzsyN7UgSUiuplkbc3ZiHnpBMjTwQIZGwL5mSNMj2MUi\n",
    "yBECADQBoECr1lHAIheZm5nk/8NXo6BP0s1zq3bMM15lfZc05qXhisZVgeBRVYDEb/Q3JFqIaCOU\n",
    "nlMWc1fHvDwd1CVdqRV8IKKxCGAZpOaWodCM/NyUdRqUZMuwmOEQPPVR4kuj3ua6T6DXPIKfeHPS\n",
    "fI66lkGEkMdHdo95KGKPgkla702/+31I6Y8a89yvQ/ny22abI7OAtkDd/xYpKzKbN1KmGh8s3vDj\n",
    "t/3MZjj2bcGzEE/TV3QJaq7Y+kaidGhUND0YMglqI9Pq85lJ3CYok9pIN9Jp1Ow3nzPiSgF19OFz\n",
    "v6sKMBc0bUqKBAM/j2sut8N23B/MWz73LRMs/Z82GdC+uUoXK46XQEXjriTZhsiG74TgDmrghLGY\n",
    "iTlSLbKSWxzHpnV8yEmkn0SMPKAAhjnhVCMDLddniFwi56wCM6kJFqao1g5KL2o5BG3Wv8dVRCIc\n",
    "JJUCk1mTMUfskygmM5hXz/5YOFCF13yIMIlomhgtDLwBfYpu/XJ0oUfO+4VvzD5rBec9vQSuSRav\n",
    "64k+FN6mmqbIO3b3Q2icSnI8q65bwoa2A6jXHn6mQhGJ+TrXKAham5LpUuiS3AXMiMCwMVefs8x1\n",
    "Jwy/z0cL5i2f+5ZPw+y64oemxkQ6UWk/6Fr4qDnKxMhs5J0/s2QN+ub2m3NrVVmddWR/rIUF/FsZ\n",
    "qyCmi9vE5ykQYtigoQQ1idLO8yaGRPO38KKh4PkboCZBx/W7bzvUazNTyaGC1hIT77Ety4EfNKgD\n",
    "3M9sNTn1bWhMUCIFKqLHFScf/hPw7utf0AhkqaG6CHB5L5F0EltbCCaZk+uZ5N4hsZAsiAlheJ0w\n",
    "vGNcbhkTNWls7VBfpfGfZlE81xcEKHOsjxk9NxrPn8tFcFK6CrMUY8e85fPe+r/g+erS4azZjdSY\n",
    "GYvNTYIiEW3N7xEYwNF9U4sGoWqidX+CnsuHzlMzR3ywrmXQRYgg73KhZgnxBvF9LGdpBkY1Xv3R\n",
    "HM1Sc8ISiL/TZ1P0Teuim0cIqjQQLzfisRHu77At13Tgode8Ms7s0lGdJnJRs4ckoQn7eWPV0m5Q\n",
    "CFzMjsRt6j+AhiTVVDIpQPMSx/U2FAaa/9yuiWwImhVQwKM51KCWmN7QGAI69BmmoAFmbkPWQlMM\n",
    "VFAmrqrDHNhuW665eUbEnZm3fN5b/xjwDwBoTOs2XpAp9ccnRCcyH2JuuvoAU/yo9egqJJAbSGbS\n",
    "3z1Ybr6QhKT0x1rElFVaYlhIcD2188NyaIoqt/NCKyhg3uI30on5x8izyrwmAqvxnPp0BuYqjO4f\n",
    "AXzrnE9rMg8Als8/cSty/p0OXWljT7xPE+hfj8jPw8ije+kOmaRARcERTIgukqdxnprnTtO8wvCM\n",
    "9ooMa2YptGvs51V/C/Smscs00fzJ/+daT589jwMpH9pOou4jwikTkDQBns+2Lde83ZZW5lu2ds28\n",
    "uuB/A/dLupvoj/rEWCQX1kIOs/JqqI55Qu8ABmqeDU0zgXaPJJoffnBViGZFswiK6HcDHBFooEl4\n",
    "aCzavES2fI400+5AvqjCQBJInMqmJK4hsk2VftpAO8z83jRmpOE0W1p53675sxvmLZ9/4gTPbwL8\n",
    "XHBbTZiuhO6Vv2ivtepeb5jl1VA6KImguRCkN1Vgopn6PBccawxhvEn/BbTYLszXDHIHUhbkGmGD\n",
    "mPqowtc5dN84n4OVDsfOn2lBNWpyMyTNzwvKzAA+jsWm59mWa3b53bkcu33T7fIFp9wP4N1bTv/Y\n",
    "J2DpvyCPz+/MpCR1Tb4lK76MHrLIGBbXtIQ0mlkmTJ/7A/VD04yJg5hQdnsRQDCvyevDp6HPuJDA\n",
    "4wNVe8UsEq3SpLKqDjRzP9hsF2zVWAIwmzFXqxXT9BcwuxzAdjtsxy0PxrSHxDyO5e0nX7vl9N89\n",
    "BEgvhftbAX8VgKdQIt3Lq33L/lMBDRHIayAKRCGSqkImAD3TFDoHEwW0kDGT9L2oBho+gWHYEeBh\n",
    "sWi9MBQSZUDsfvW2VgIJIuMQskWLcRXR8hmAZqYZzxZmOdwfwDR9F8C9SOkGW1r+y4fKMB0P+QXh\n",
    "y9tPygCuqD/YctrHnuh5/DEz7GlW3nhbHrq+PTaXLVaFFvmvu8l0E2UMYRglUomrCDE6r6qTV+bT\n",
    "XBWze4U97/Lffvhk+fsxHvGr+ZcvOPl+AF992Be6l6B+WDTzq8XOMCVjCyOUOdos1OUE0cy4zv0P\n",
    "eOwGbT5GQ512Za/2AAAGk0lEQVR2OO4ZGKH/UShOfxdZixpzAQ3QRIqL6aq5v/2HNdb96fwrr34F\n",
    "3C/baRNI53/q79i5RGbl5gcJRgABQESh4HW3I093xHxd2kv8FNegIQGArg2ReV7W/SLQnmjuT7cX\n",
    "XrXjsaVeP9b/62imsTl7LbQqDGeQ2qW9rOQkycDYl+C9CdXCMXAggAM7eE4NjS1WRM4AWDW3es9x\n",
    "td2b3+MwocVzPSredz3JCGyE2eQGQaBVxiMGm2bmEQ2SR6uhN3PK7mOgbhARwKNF4C6LgYY0x1W5\n",
    "t68RlqDX1s7k13lih5CvuxVbf+Ypk9SfsUJBItGE6WZ65hKZ+1ToD8yakrw3icyBRnNT6lNs9JXU\n",
    "NveyvUtrl5C5w+dKqLDOYwMAC9NT1jSA2580Oa1EjJTS2ALmlErHlTID9Th7JSN88AZgmDXRF5Jq\n",
    "Wajrz0G/b0IFjvFdtGesv+atv8/TLEPEc9REOYd5zAgnagDNrjNDM5nRGzk086iM7zrMpMkpdqJK\n",
    "vbKbU2NRQ7z4lOerSd0A1dsYs6lMYgaCCFELrgos6F/4uZpLVhk08cuhQMhQvy2lfqbfIMJMUNsj\n",
    "cTeGRY4LDW0bFhm32NTuP6/9rcNYf+YBaBCdYEUaf0ikaI+QGhlfREPma8CulXXdr85qNFAB0GpD\n",
    "lgGOohK+imH4VeR8oB161b4YV/fGlI9DnkohNFJh6NdfKgQ/AGZTW/uGRZ/MjRqcNW2wVEQs59q+\n",
    "gIoyB9m0QfOmYCVJrKjZGGvmcKgvIcAEGFZhdrQdcuU1XKkdevV3AVzuf/aiQ5HzRUjp+NB83XK8\n",
    "QWNjMiwVrLXyDNC1FnK/OZFp9t7XAdJdVf+eo1c1qTw/kGdq8yxq/S8N71fGdUs+bMf3AbwdZndj\n",
    "sUkajAQo/UCECu5TfZVHe/goflauRlGTCBGI/dkKSHgNzaXWzroYTyr9+jIAfU2w++/tbtl22I6/\n",
    "wTRd0Xp5INmetCFmcwN8nt/XvZ4wsiJSzQYEkqOdQ7MaxUuaSumvpK/TnpfwaeIvQ+MBwO+1Q/7k\n",
    "9gdfut8Qr9HXtdInr/PYAObZtyNmA1qKS7c/aexGLQlGQNJqEo8FcrWdi6xw6ZWEZEyMgOWH/fqX\n",
    "7P3gS7cf7RLpIWAJbSHrNzbCbH4Znr8evfpEfFrCGdQMQpjkLTaMzIYyCYIy69BOLrO+Z5MhhrvB\n",
    "84t3u+xrj0wAjgqB0op/ue/du7v+sRjrzjx7zmUO2MVdjyT7Q7gnnuYsDe0ryRTSR2c0FKrLXRgC\n",
    "VOSq/nGU6reWobJv9+uO/qFdLtz9l5Hzc7rNpYCGLd94lEn1oGNj4jzDeRiG73WxlrYR6LtTmDCm\n",
    "BmkQP++P0ewJMygEL9oyr2kwCozZMwH/rK8ccZBO6StHJP/8Ue9GSmfvFEMyP+r5S3b4n/75Y0ix\n",
    "Ncf6Z1Pr8D9/5RkYxw/0mxGtT5kB0jAk8eFik/SPiG8EehPLlxPoFuac+1ogEwEAanvgfUjpapjd\n",
    "gGl6KoAjYPbj8ebZiCnRwg/D6ba0csFjRqxdjI1j3s3HLmB2NWCHRygQucO6rD53KIyaSOiIJgKF\n",
    "As3EMl/qKHOPYvKY01TgpALSNRMxeSCC1HKnfwzgWFtaXne4uUHpMcCed/mI7McC/tnQgvCD9f8B\n",
    "asTfjWML4COrwmBZ0l1R2/NWr1NNBXrww7+jIq/t+DO/GUjX/wbu/3IjGAdsIPMAwA6+/F64vwZm\n",
    "H44QAOjLQpF+8p7w1AYWUMlUoCWcu9hLEWZifNfQbAAXVvA5h7THq8bBrgKwZEesfPPRpcpDHxtm\n",
    "NufDb3z5v4bZmQD+cSMS0IUCWkvr+lG8wfcI0tFMJzvRtD+FrRgRuM+Tzt7/EOWaZZidBc//3pZW\n",
    "NrRF7XHDPADwm47ZBPeTYHYGzH5izdoc2x9iP1xq7RDUIiagqc3Zm0YpwGGCW30cINoOFZLvIaWP\n",
    "w/Ov25bl+XtlNmQ8rpjH4Te+fADwZri/A8DhAPbYSdvU5AHS1ETtmyQmNOkFTTMhGNCFGLw2Kh7+\n",
    "ZQC/hewftSNW7lp7xRszHpfM0+E3vOSJsHQ4zI6C+4uR8xEw7BMJaIYE829GjpeX1oCeGsgsjVbY\n",
    "yeSUvg/3GwFcC7NrMY7XArjJjljx3Sxxw8bjnnnz4dcdnWA4GJZ+GsD+yHlfmG0GsBmeNwPYF47N\n",
    "SGkzxtXN1UfdDUv3IOe7Ybgb7vfUdNY9MLsbwF8j588DuMkO/9PV3d3/8TT+P2x6AX5Riia7AAAA\n",
    "AElFTkSuQmCC\n",
    "\"\n",
    "     style=\"display:block;margin:auto;width:10%\"/>\n",
    "<br>\n",
    "\n",
    "<div style=\"text-align:center; font-size:200%;\">\n",
    " <b>Vorbereiten der MNIST Daten</b>\n",
    "</div>\n",
    "<br/>\n",
    "<div style=\"text-align:center;\">Dr. Matthias Hölzl</div>\n",
    "<br/>\n",
    "<!-- 04 Vorbereiten der MNIST Daten.ipynb -->\n",
    "<!-- python_courses/slides/module_700_ml_basics/topic_132_mnist_prep.py -->"
   ]
  },
  {
   "cell_type": "markdown",
   "id": "373979724841fdef",
   "metadata": {
    "lang": "de",
    "slideshow": {
     "slide_type": "subslide"
    },
    "tags": [
     "subslide"
    ]
   },
   "source": [
    "\n",
    "## Vorbereitungen"
   ]
  },
  {
   "cell_type": "code",
   "execution_count": 217,
   "id": "8ebdbe73cbae2d7e",
   "metadata": {
    "tags": [
     "keep"
    ]
   },
   "outputs": [],
   "source": [
    "try:\n",
    "    from python_courses.envconfig import EnvConfig\n",
    "except ModuleNotFoundError:\n",
    "    from envconfig import EnvConfig  # noqa"
   ]
  },
  {
   "cell_type": "code",
   "execution_count": 218,
   "id": "9c0e2ebbe685ef82",
   "metadata": {
    "tags": [
     "keep"
    ]
   },
   "outputs": [],
   "source": [
    "config = EnvConfig()"
   ]
  },
  {
   "cell_type": "code",
   "execution_count": 219,
   "id": "28c25ea6c7eb9b32",
   "metadata": {
    "tags": [
     "keep"
    ]
   },
   "outputs": [],
   "source": [
    "import pickle\n",
    "from textwrap import wrap  # noqa"
   ]
  },
  {
   "cell_type": "code",
   "execution_count": 220,
   "id": "cdea52c59fb0bdd7",
   "metadata": {
    "tags": [
     "keep"
    ]
   },
   "outputs": [],
   "source": [
    "def print_wrapped(text: str):\n",
    "    for paragraph in text.split(\"\\n\"):\n",
    "        print(\"\\n\".join(wrap(paragraph)))"
   ]
  },
  {
   "cell_type": "markdown",
   "id": "e24dca9674b3044c",
   "metadata": {
    "lang": "de",
    "slideshow": {
     "slide_type": "subslide"
    },
    "tags": [
     "subslide"
    ]
   },
   "source": [
    "\n",
    "## Laden der MNIST-Daten"
   ]
  },
  {
   "cell_type": "code",
   "execution_count": 221,
   "id": "9cea2e2ad8c548f2",
   "metadata": {},
   "outputs": [],
   "source": [
    "from sklearn.datasets import fetch_openml"
   ]
  },
  {
   "cell_type": "code",
   "execution_count": 155,
   "id": "e27244c3",
   "metadata": {},
   "outputs": [],
   "source": [
    "import urllib.request\n",
    "r = urllib.request.urlopen('https://google.com')"
   ]
  },
  {
   "cell_type": "code",
   "execution_count": null,
   "id": "32f4a9b6",
   "metadata": {},
   "outputs": [],
   "source": []
  },
  {
   "cell_type": "code",
   "execution_count": 223,
   "id": "5cd02bf16cefe297",
   "metadata": {},
   "outputs": [],
   "source": [
    "import ssl\n",
    "ssl._create_default_https_context = ssl._create_unverified_context\n",
    "\n",
    "\n",
    "mnist = fetch_openml(\n",
    "    \"mnist_784\",\n",
    "    data_home=config.sklearn_cache_dir_path.as_posix(),\n",
    "    cache=True,\n",
    "    parser=\"auto\"\n",
    ")"
   ]
  },
  {
   "cell_type": "markdown",
   "id": "3dc2c57bc5388852",
   "metadata": {
    "lang": "de",
    "slideshow": {
     "slide_type": "slide"
    },
    "tags": [
     "slide"
    ]
   },
   "source": [
    "\n",
    "## Analysieren der Daten\n",
    "\n",
    "Der Wert in `mnist` ist ein scikit-learn `Bunch`. Das ist ein Typ, der ähnlich zu\n",
    "einem Dictionary ist, aber Einträge können mit den beiden (äquivalenten)\n",
    "Syntax-Varianten `bunch[\"key\"]` und `bunch.key` gelesen und geschrieben werden."
   ]
  },
  {
   "cell_type": "code",
   "execution_count": 224,
   "id": "6f41e6451c08c2ee",
   "metadata": {},
   "outputs": [
    {
     "data": {
      "text/plain": [
       "sklearn.utils._bunch.Bunch"
      ]
     },
     "execution_count": 224,
     "metadata": {},
     "output_type": "execute_result"
    }
   ],
   "source": [
    "type(mnist)"
   ]
  },
  {
   "cell_type": "code",
   "execution_count": 225,
   "id": "53b0d01ca9a62496",
   "metadata": {
    "slideshow": {
     "slide_type": "subslide"
    },
    "tags": [
     "subslide",
     "keep"
    ]
   },
   "outputs": [],
   "source": [
    "from sklearn.utils import Bunch"
   ]
  },
  {
   "cell_type": "code",
   "execution_count": 226,
   "id": "c2ac87d9",
   "metadata": {},
   "outputs": [],
   "source": [
    "my_bunch = Bunch()"
   ]
  },
  {
   "cell_type": "code",
   "execution_count": 227,
   "id": "cffdf029ab48b650",
   "metadata": {},
   "outputs": [],
   "source": [
    "my_bunch[\"my_key\"] = 123"
   ]
  },
  {
   "cell_type": "code",
   "execution_count": 228,
   "id": "8e7874f2562914f1",
   "metadata": {},
   "outputs": [],
   "source": [
    "my_bunch.my_key=234"
   ]
  },
  {
   "cell_type": "code",
   "execution_count": 229,
   "id": "e6899c96969edb69",
   "metadata": {},
   "outputs": [
    {
     "data": {
      "text/plain": [
       "234"
      ]
     },
     "execution_count": 229,
     "metadata": {},
     "output_type": "execute_result"
    }
   ],
   "source": [
    "my_bunch.my_key"
   ]
  },
  {
   "cell_type": "code",
   "execution_count": 230,
   "id": "c9f67ca7e9e84e45",
   "metadata": {},
   "outputs": [
    {
     "data": {
      "text/plain": [
       "dict_keys(['data', 'target', 'frame', 'categories', 'feature_names', 'target_names', 'DESCR', 'details', 'url'])"
      ]
     },
     "execution_count": 230,
     "metadata": {},
     "output_type": "execute_result"
    }
   ],
   "source": [
    "mnist.keys()"
   ]
  },
  {
   "cell_type": "code",
   "execution_count": 231,
   "id": "0cc47cca9e1a46f4",
   "metadata": {
    "slideshow": {
     "slide_type": "subslide"
    },
    "tags": [
     "subslide"
    ]
   },
   "outputs": [
    {
     "name": "stdout",
     "output_type": "stream",
     "text": [
      "**Author**: Yann LeCun, Corinna Cortes, Christopher J.C. Burges\n",
      "**Source**: [MNIST Website](http://yann.lecun.com/exdb/mnist/) - Date\n",
      "unknown\n",
      "**Please cite**:\n",
      "\n",
      "The MNIST database of handwritten digits with 784 features, raw data\n",
      "available at: http://yann.lecun.com/exdb/mnist/. It can be split in a\n",
      "training set of the first 60,000 examples, and a test set of 10,000\n",
      "examples\n",
      "\n",
      "It is a subset of a larger set available from NIST. The digits have\n",
      "been size-normalized and centered in a fixed-size image. It is a good\n",
      "database for people who want to try learning techniques and pattern\n",
      "recognition methods on real-world data while spending minimal efforts\n",
      "on preprocessing and formatting. The original black and white\n",
      "(bilevel) images from NIST were size normalized to fit in a 20x20\n",
      "pixel box while preserving their aspect ratio. The resulting images\n",
      "contain grey levels as a result of the anti-aliasing technique used by\n",
      "the normalization algorithm. the images were centered in a 28x28 image\n",
      "by computing the center of mass of the pixels, and translating the\n",
      "image so as to position this point at the center of the 28x28 field.\n",
      "\n",
      "With some classification methods (particularly template-based methods,\n",
      "such as SVM and K-nearest neighbors), the error rate improves when the\n",
      "digits are centered by bounding box rather than center of mass. If you\n",
      "do this kind of pre-processing, you should report it in your\n",
      "publications. The MNIST database was constructed from NIST's NIST\n",
      "originally designated SD-3 as their training set and SD-1 as their\n",
      "test set. However, SD-3 is much cleaner and easier to recognize than\n",
      "SD-1. The reason for this can be found on the fact that SD-3 was\n",
      "collected among Census Bureau employees, while SD-1 was collected\n",
      "among high-school students. Drawing sensible conclusions from learning\n",
      "experiments requires that the result be independent of the choice of\n",
      "training set and test among the complete set of samples. Therefore it\n",
      "was necessary to build a new database by mixing NIST's datasets.\n",
      "\n",
      "The MNIST training set is composed of 30,000 patterns from SD-3 and\n",
      "30,000 patterns from SD-1. Our test set was composed of 5,000 patterns\n",
      "from SD-3 and 5,000 patterns from SD-1. The 60,000 pattern training\n",
      "set contained examples from approximately 250 writers. We made sure\n",
      "that the sets of writers of the training set and test set were\n",
      "disjoint. SD-1 contains 58,527 digit images written by 500 different\n",
      "writers. In contrast to SD-3, where blocks of data from each writer\n",
      "appeared in sequence, the data in SD-1 is scrambled. Writer identities\n",
      "for SD-1 is available and we used this information to unscramble the\n",
      "writers. We then split SD-1 in two: characters written by the first\n",
      "250 writers went into our new training set. The remaining 250 writers\n",
      "were placed in our test set. Thus we had two sets with nearly 30,000\n",
      "examples each. The new training set was completed with enough examples\n",
      "from SD-3, starting at pattern # 0, to make a full set of 60,000\n",
      "training patterns. Similarly, the new test set was completed with SD-3\n",
      "examples starting at pattern # 35,000 to make a full set with 60,000\n",
      "test patterns. Only a subset of 10,000 test images (5,000 from SD-1\n",
      "and 5,000 from SD-3) is available on this site. The full 60,000 sample\n",
      "training set is available.\n",
      "\n",
      "Downloaded from openml.org.\n"
     ]
    }
   ],
   "source": [
    "print_wrapped(mnist[\"DESCR\"])"
   ]
  },
  {
   "cell_type": "code",
   "execution_count": 232,
   "id": "9510ac6510244120",
   "metadata": {},
   "outputs": [
    {
     "data": {
      "text/plain": [
       "{'id': '554',\n",
       " 'name': 'mnist_784',\n",
       " 'version': '1',\n",
       " 'description_version': '1',\n",
       " 'format': 'ARFF',\n",
       " 'creator': ['Yann LeCun', 'Corinna Cortes', 'Christopher J.C. Burges'],\n",
       " 'upload_date': '2014-09-29T03:28:38',\n",
       " 'language': 'English',\n",
       " 'licence': 'Public',\n",
       " 'url': 'https://api.openml.org/data/v1/download/52667/mnist_784.arff',\n",
       " 'parquet_url': 'http://openml1.win.tue.nl/dataset554/dataset_554.pq',\n",
       " 'file_id': '52667',\n",
       " 'default_target_attribute': 'class',\n",
       " 'tag': ['AzurePilot',\n",
       "  'OpenML-CC18',\n",
       "  'OpenML100',\n",
       "  'study_1',\n",
       "  'study_123',\n",
       "  'study_41',\n",
       "  'study_99',\n",
       "  'vision'],\n",
       " 'visibility': 'public',\n",
       " 'minio_url': 'http://openml1.win.tue.nl/dataset554/dataset_554.pq',\n",
       " 'status': 'active',\n",
       " 'processing_date': '2020-11-20 20:12:09',\n",
       " 'md5_checksum': '0298d579eb1b86163de7723944c7e495'}"
      ]
     },
     "execution_count": 232,
     "metadata": {},
     "output_type": "execute_result"
    }
   ],
   "source": [
    "mnist.details"
   ]
  },
  {
   "cell_type": "markdown",
   "id": "96c49111",
   "metadata": {},
   "source": []
  },
  {
   "cell_type": "code",
   "execution_count": 233,
   "id": "1580f9ff1304f8fa",
   "metadata": {},
   "outputs": [
    {
     "data": {
      "text/plain": [
       "234"
      ]
     },
     "execution_count": 233,
     "metadata": {},
     "output_type": "execute_result"
    }
   ],
   "source": [
    "my_bunch[\"my_key\"]"
   ]
  },
  {
   "cell_type": "code",
   "execution_count": 234,
   "id": "5d676635587db9c2",
   "metadata": {
    "slideshow": {
     "slide_type": "subslide"
    },
    "tags": [
     "subslide"
    ]
   },
   "outputs": [
    {
     "data": {
      "text/plain": [
       "234"
      ]
     },
     "execution_count": 234,
     "metadata": {},
     "output_type": "execute_result"
    }
   ],
   "source": [
    "my_bunch.my_key"
   ]
  },
  {
   "cell_type": "code",
   "execution_count": 235,
   "id": "92e143e8ce474c90",
   "metadata": {},
   "outputs": [
    {
     "data": {
      "text/plain": [
       "dict_keys(['data', 'target', 'frame', 'categories', 'feature_names', 'target_names', 'DESCR', 'details', 'url'])"
      ]
     },
     "execution_count": 235,
     "metadata": {},
     "output_type": "execute_result"
    }
   ],
   "source": [
    "mnist.keys()"
   ]
  },
  {
   "cell_type": "code",
   "execution_count": null,
   "id": "eec77d7d9e256549",
   "metadata": {},
   "outputs": [],
   "source": []
  },
  {
   "cell_type": "markdown",
   "id": "ac79d6b31654575b",
   "metadata": {
    "lang": "de",
    "slideshow": {
     "slide_type": "subslide"
    },
    "tags": [
     "subslide"
    ]
   },
   "source": [
    "\n",
    "### Analysieren von `data` und `target`"
   ]
  },
  {
   "cell_type": "code",
   "execution_count": 236,
   "id": "57cafb41052ac144",
   "metadata": {},
   "outputs": [
    {
     "data": {
      "text/plain": [
       "pandas.core.frame.DataFrame"
      ]
     },
     "execution_count": 236,
     "metadata": {},
     "output_type": "execute_result"
    }
   ],
   "source": [
    "mnist.data\n",
    "type(mnist.data)"
   ]
  },
  {
   "cell_type": "code",
   "execution_count": 237,
   "id": "47d492ac96a06eb0",
   "metadata": {},
   "outputs": [
    {
     "data": {
      "text/plain": [
       "(70000, 784)"
      ]
     },
     "execution_count": 237,
     "metadata": {},
     "output_type": "execute_result"
    }
   ],
   "source": [
    "mnist.data.shape"
   ]
  },
  {
   "cell_type": "code",
   "execution_count": 238,
   "id": "9cfce00030419db6",
   "metadata": {},
   "outputs": [
    {
     "data": {
      "text/plain": [
       "pandas.core.series.Series"
      ]
     },
     "execution_count": 238,
     "metadata": {},
     "output_type": "execute_result"
    }
   ],
   "source": [
    "type(mnist.target)"
   ]
  },
  {
   "cell_type": "code",
   "execution_count": 239,
   "id": "0b8983dc41241c69",
   "metadata": {},
   "outputs": [
    {
     "data": {
      "text/plain": [
       "(70000,)"
      ]
     },
     "execution_count": 239,
     "metadata": {},
     "output_type": "execute_result"
    }
   ],
   "source": [
    "mnist.target.shape"
   ]
  },
  {
   "cell_type": "markdown",
   "id": "7c961aecf1f31431",
   "metadata": {
    "lang": "de",
    "slideshow": {
     "slide_type": "subslide"
    },
    "tags": [
     "subslide"
    ]
   },
   "source": [
    "\n",
    "### Verwenden der geläufigen Variablennamen"
   ]
  },
  {
   "cell_type": "code",
   "execution_count": 240,
   "id": "9b03b5e3318f74ce",
   "metadata": {},
   "outputs": [],
   "source": [
    "X, y = mnist.data, mnist.target"
   ]
  },
  {
   "cell_type": "code",
   "execution_count": 241,
   "id": "4cdeac359490aca0",
   "metadata": {},
   "outputs": [
    {
     "data": {
      "text/plain": [
       "pandas.core.frame.DataFrame"
      ]
     },
     "execution_count": 241,
     "metadata": {},
     "output_type": "execute_result"
    }
   ],
   "source": [
    "type(X)"
   ]
  },
  {
   "cell_type": "code",
   "execution_count": 242,
   "id": "8d9784428e3d47d2",
   "metadata": {},
   "outputs": [
    {
     "data": {
      "text/plain": [
       "pandas.core.series.Series"
      ]
     },
     "execution_count": 242,
     "metadata": {},
     "output_type": "execute_result"
    }
   ],
   "source": [
    "type(y)"
   ]
  },
  {
   "cell_type": "markdown",
   "id": "770f05688c134d1d",
   "metadata": {
    "lang": "de",
    "slideshow": {
     "slide_type": "subslide"
    },
    "tags": [
     "subslide"
    ]
   },
   "source": [
    "\n",
    "### Umwandeln in Numpy Arrays"
   ]
  },
  {
   "cell_type": "code",
   "execution_count": 243,
   "id": "ce38b24458541507",
   "metadata": {},
   "outputs": [],
   "source": [
    "X = X.to_numpy()\n",
    "y = y.to_numpy()"
   ]
  },
  {
   "cell_type": "code",
   "execution_count": 244,
   "id": "025ce0f5aac0aa90",
   "metadata": {},
   "outputs": [
    {
     "data": {
      "text/plain": [
       "numpy.ndarray"
      ]
     },
     "execution_count": 244,
     "metadata": {},
     "output_type": "execute_result"
    }
   ],
   "source": [
    "type(X)"
   ]
  },
  {
   "cell_type": "code",
   "execution_count": 245,
   "id": "fd4357d0217ad5ae",
   "metadata": {},
   "outputs": [
    {
     "data": {
      "text/plain": [
       "numpy.ndarray"
      ]
     },
     "execution_count": 245,
     "metadata": {},
     "output_type": "execute_result"
    }
   ],
   "source": [
    "type(y)"
   ]
  },
  {
   "cell_type": "code",
   "execution_count": 246,
   "id": "cf91f4e92969c0f1",
   "metadata": {},
   "outputs": [
    {
     "data": {
      "text/plain": [
       "(70000, 784)"
      ]
     },
     "execution_count": 246,
     "metadata": {},
     "output_type": "execute_result"
    }
   ],
   "source": [
    "X.shape"
   ]
  },
  {
   "cell_type": "code",
   "execution_count": 247,
   "id": "35455c5850e66f11",
   "metadata": {},
   "outputs": [
    {
     "data": {
      "text/plain": [
       "(70000,)"
      ]
     },
     "execution_count": 247,
     "metadata": {},
     "output_type": "execute_result"
    }
   ],
   "source": [
    "y.shape"
   ]
  },
  {
   "cell_type": "code",
   "execution_count": 248,
   "id": "edde80af360c0501",
   "metadata": {},
   "outputs": [
    {
     "data": {
      "text/plain": [
       "dtype('int64')"
      ]
     },
     "execution_count": 248,
     "metadata": {},
     "output_type": "execute_result"
    }
   ],
   "source": [
    "X.dtype"
   ]
  },
  {
   "cell_type": "code",
   "execution_count": 249,
   "id": "94e96306c3553f80",
   "metadata": {},
   "outputs": [
    {
     "data": {
      "text/plain": [
       "dtype('O')"
      ]
     },
     "execution_count": 249,
     "metadata": {},
     "output_type": "execute_result"
    }
   ],
   "source": [
    "y.dtype"
   ]
  },
  {
   "cell_type": "markdown",
   "id": "bb8e9e0770805142",
   "metadata": {
    "lang": "de",
    "slideshow": {
     "slide_type": "subslide"
    },
    "tags": [
     "subslide"
    ]
   },
   "source": [
    "\n",
    "### Analysieren des Wertebereichs"
   ]
  },
  {
   "cell_type": "code",
   "execution_count": 250,
   "id": "98bd61256e3e7368",
   "metadata": {},
   "outputs": [
    {
     "data": {
      "text/plain": [
       "0"
      ]
     },
     "execution_count": 250,
     "metadata": {},
     "output_type": "execute_result"
    }
   ],
   "source": [
    "import numpy as np\n",
    "np.min(X)"
   ]
  },
  {
   "cell_type": "code",
   "execution_count": 251,
   "id": "f7b6296d8e77b6e2",
   "metadata": {},
   "outputs": [
    {
     "data": {
      "text/plain": [
       "255"
      ]
     },
     "execution_count": 251,
     "metadata": {},
     "output_type": "execute_result"
    }
   ],
   "source": [
    "np.max(X)"
   ]
  },
  {
   "cell_type": "code",
   "execution_count": 252,
   "id": "ab4d7314904a10aa",
   "metadata": {},
   "outputs": [
    {
     "data": {
      "text/plain": [
       "'0'"
      ]
     },
     "execution_count": 252,
     "metadata": {},
     "output_type": "execute_result"
    }
   ],
   "source": [
    "np.min(y)"
   ]
  },
  {
   "cell_type": "code",
   "execution_count": 253,
   "id": "da1354c0581db8d6",
   "metadata": {},
   "outputs": [
    {
     "data": {
      "text/plain": [
       "'9'"
      ]
     },
     "execution_count": 253,
     "metadata": {},
     "output_type": "execute_result"
    }
   ],
   "source": [
    "np.max(y)"
   ]
  },
  {
   "cell_type": "markdown",
   "id": "877c567eb59b295b",
   "metadata": {
    "lang": "de",
    "slideshow": {
     "slide_type": "subslide"
    },
    "tags": [
     "subslide"
    ]
   },
   "source": [
    "\n",
    "### Analysieren einzelner Einträge"
   ]
  },
  {
   "cell_type": "code",
   "execution_count": 254,
   "id": "85f724dca15e2a4a",
   "metadata": {},
   "outputs": [],
   "source": [
    "first_number = X[0]\n",
    "second_number = X[1]"
   ]
  },
  {
   "cell_type": "code",
   "execution_count": 255,
   "id": "9d10b70d4c664d49",
   "metadata": {},
   "outputs": [
    {
     "data": {
      "text/plain": [
       "numpy.ndarray"
      ]
     },
     "execution_count": 255,
     "metadata": {},
     "output_type": "execute_result"
    }
   ],
   "source": [
    "type(first_number)"
   ]
  },
  {
   "cell_type": "code",
   "execution_count": 256,
   "id": "2e463a570ed8f748",
   "metadata": {},
   "outputs": [
    {
     "data": {
      "text/plain": [
       "(784,)"
      ]
     },
     "execution_count": 256,
     "metadata": {},
     "output_type": "execute_result"
    }
   ],
   "source": [
    "first_number.shape"
   ]
  },
  {
   "cell_type": "markdown",
   "id": "caf329d01e9a3e8d",
   "metadata": {
    "lang": "de",
    "slideshow": {
     "slide_type": "subslide"
    },
    "tags": [
     "subslide"
    ]
   },
   "source": [
    "\n",
    "### Umwandeln in Bilder"
   ]
  },
  {
   "cell_type": "code",
   "execution_count": 257,
   "id": "76148c685405f919",
   "metadata": {},
   "outputs": [],
   "source": [
    "first_number_image = first_number.reshape(28, 28)\n",
    "second_number_image = second_number.reshape(28, 28)"
   ]
  },
  {
   "cell_type": "code",
   "execution_count": 258,
   "id": "4f69fce85156cf85",
   "metadata": {},
   "outputs": [
    {
     "data": {
      "text/plain": [
       "(28, 28)"
      ]
     },
     "execution_count": 258,
     "metadata": {},
     "output_type": "execute_result"
    }
   ],
   "source": [
    "first_number_image.shape"
   ]
  },
  {
   "cell_type": "markdown",
   "id": "bf95e0926ea8d906",
   "metadata": {
    "lang": "de",
    "slideshow": {
     "slide_type": "subslide"
    },
    "tags": [
     "subslide"
    ]
   },
   "source": [
    "\n",
    "### Anzeigen der Bilder"
   ]
  },
  {
   "cell_type": "code",
   "execution_count": 80,
   "id": "a07676516b95bcfa",
   "metadata": {},
   "outputs": [
    {
     "ename": "SyntaxError",
     "evalue": "invalid syntax (1313657737.py, line 1)",
     "output_type": "error",
     "traceback": [
      "\u001b[1;36m  Cell \u001b[1;32mIn[80], line 1\u001b[1;36m\u001b[0m\n\u001b[1;33m    import plt from matplotlib\u001b[0m\n\u001b[1;37m               ^\u001b[0m\n\u001b[1;31mSyntaxError\u001b[0m\u001b[1;31m:\u001b[0m invalid syntax\n"
     ]
    }
   ],
   "source": [
    "import plt from matplotlib\n",
    "plt.imshow(first_number_image, cmap=\"binary\")"
   ]
  },
  {
   "cell_type": "code",
   "execution_count": 79,
   "id": "697b83ea8440d17b",
   "metadata": {},
   "outputs": [
    {
     "ename": "AttributeError",
     "evalue": "module 'matplotlib' has no attribute 'imshow'",
     "output_type": "error",
     "traceback": [
      "\u001b[1;31m---------------------------------------------------------------------------\u001b[0m",
      "\u001b[1;31mAttributeError\u001b[0m                            Traceback (most recent call last)",
      "Cell \u001b[1;32mIn[79], line 1\u001b[0m\n\u001b[1;32m----> 1\u001b[0m \u001b[43mplt\u001b[49m\u001b[38;5;241;43m.\u001b[39;49m\u001b[43mimshow\u001b[49m(second_number_image, cmap\u001b[38;5;241m=\u001b[39m\u001b[38;5;124m\"\u001b[39m\u001b[38;5;124mbinary\u001b[39m\u001b[38;5;124m\"\u001b[39m)\n",
      "File \u001b[1;32m~\\anaconda3\\envs\\ml-basic\\Lib\\site-packages\\matplotlib\\_api\\__init__.py:226\u001b[0m, in \u001b[0;36mcaching_module_getattr.<locals>.__getattr__\u001b[1;34m(name)\u001b[0m\n\u001b[0;32m    224\u001b[0m \u001b[38;5;28;01mif\u001b[39;00m name \u001b[38;5;129;01min\u001b[39;00m props:\n\u001b[0;32m    225\u001b[0m     \u001b[38;5;28;01mreturn\u001b[39;00m props[name]\u001b[38;5;241m.\u001b[39m\u001b[38;5;21m__get__\u001b[39m(instance)\n\u001b[1;32m--> 226\u001b[0m \u001b[38;5;28;01mraise\u001b[39;00m \u001b[38;5;167;01mAttributeError\u001b[39;00m(\n\u001b[0;32m    227\u001b[0m     \u001b[38;5;124mf\u001b[39m\u001b[38;5;124m\"\u001b[39m\u001b[38;5;124mmodule \u001b[39m\u001b[38;5;132;01m{\u001b[39;00m\u001b[38;5;28mcls\u001b[39m\u001b[38;5;241m.\u001b[39m\u001b[38;5;18m__module__\u001b[39m\u001b[38;5;132;01m!r}\u001b[39;00m\u001b[38;5;124m has no attribute \u001b[39m\u001b[38;5;132;01m{\u001b[39;00mname\u001b[38;5;132;01m!r}\u001b[39;00m\u001b[38;5;124m\"\u001b[39m)\n",
      "\u001b[1;31mAttributeError\u001b[0m: module 'matplotlib' has no attribute 'imshow'"
     ]
    }
   ],
   "source": [
    "plt.imshow(second_number_image, cmap=\"binary\")"
   ]
  },
  {
   "cell_type": "code",
   "execution_count": null,
   "id": "75f411f1503738d8",
   "metadata": {
    "slideshow": {
     "slide_type": "subslide"
    },
    "tags": [
     "subslide"
    ]
   },
   "outputs": [],
   "source": [
    "fig, axes = plt.subplots(10, 10)\n",
    "for idx, ax in enumerate(np.array(axes).ravel()):\n",
    "    ax.imshow(X[idx].reshape(28, 28), cmap=\"binary\")\n",
    "    ax.set_xticks([ ], [ ])\n",
    "    ax.set_yticks([ ], [ ])"
   ]
  },
  {
   "cell_type": "markdown",
   "id": "0bf3072f37d873fe",
   "metadata": {
    "lang": "de",
    "slideshow": {
     "slide_type": "subslide"
    },
    "tags": [
     "subslide"
    ]
   },
   "source": [
    "\n",
    "### Umwandeln der Klassen in Zahlen"
   ]
  },
  {
   "cell_type": "code",
   "execution_count": 259,
   "id": "1f71c3a55fc803ea",
   "metadata": {},
   "outputs": [
    {
     "data": {
      "text/plain": [
       "array(['5', '0'], dtype=object)"
      ]
     },
     "execution_count": 259,
     "metadata": {},
     "output_type": "execute_result"
    }
   ],
   "source": [
    "y[:2]"
   ]
  },
  {
   "cell_type": "code",
   "execution_count": 260,
   "id": "238c2204da632999",
   "metadata": {},
   "outputs": [],
   "source": [
    "y = y.astype(np.int32)"
   ]
  },
  {
   "cell_type": "code",
   "execution_count": 261,
   "id": "49c83e6464d70fcd",
   "metadata": {},
   "outputs": [
    {
     "data": {
      "text/plain": [
       "array([5, 0])"
      ]
     },
     "execution_count": 261,
     "metadata": {},
     "output_type": "execute_result"
    }
   ],
   "source": [
    "y[:2]"
   ]
  },
  {
   "cell_type": "markdown",
   "id": "2d86300b8d614f45",
   "metadata": {
    "lang": "de",
    "slideshow": {
     "slide_type": "subslide"
    },
    "tags": [
     "subslide"
    ]
   },
   "source": [
    "\n",
    "### Die Zahl 7"
   ]
  },
  {
   "cell_type": "code",
   "execution_count": 262,
   "id": "53214b4fd631d0f2",
   "metadata": {},
   "outputs": [],
   "source": [
    "first_index_of_7 = np.where(y == 7)[0][0]"
   ]
  },
  {
   "cell_type": "code",
   "execution_count": null,
   "id": "45053b48a8e72754",
   "metadata": {},
   "outputs": [],
   "source": []
  },
  {
   "cell_type": "markdown",
   "id": "27a4ce977410f474",
   "metadata": {
    "lang": "de",
    "slideshow": {
     "slide_type": "subslide"
    },
    "tags": [
     "subslide"
    ]
   },
   "source": [
    "\n",
    "### Aufspalten in Trainings- und Test-Set"
   ]
  },
  {
   "cell_type": "code",
   "execution_count": 263,
   "id": "528637fa2bc9cc30",
   "metadata": {},
   "outputs": [],
   "source": [
    "x_train, x_test = X[:60_000], X[60_000:]"
   ]
  },
  {
   "cell_type": "code",
   "execution_count": 264,
   "id": "f950f12c7d2c7c48",
   "metadata": {},
   "outputs": [],
   "source": [
    "y_train, y_test = y[:60_000], y[60_000:]"
   ]
  },
  {
   "cell_type": "markdown",
   "id": "870af4e615fac1b9",
   "metadata": {
    "lang": "de",
    "slideshow": {
     "slide_type": "subslide"
    },
    "tags": [
     "subslide"
    ]
   },
   "source": [
    "\n",
    "### Exportieren der Daten"
   ]
  },
  {
   "cell_type": "code",
   "execution_count": 265,
   "id": "3913b77599dcce04",
   "metadata": {},
   "outputs": [],
   "source": [
    "process_mnist_data = {\n",
    "    \"x_train\": x_train,\n",
    "    \"x_test\": x_test,\n",
    "    \"y_train\": y_train,\n",
    "    \"y_test\": y_test\n",
    "}"
   ]
  },
  {
   "cell_type": "code",
   "execution_count": 266,
   "id": "e3e1b0236af7a164",
   "metadata": {},
   "outputs": [],
   "source": [
    "with open(config.processed_mnist_pkl_path, \"wb\") as file:\n",
    "    pickle.dump(process_mnist_data, file)"
   ]
  },
  {
   "cell_type": "markdown",
   "id": "1bfb7cbbce5c751a",
   "metadata": {
    "lang": "de",
    "slideshow": {
     "slide_type": "subslide"
    },
    "tags": [
     "subslide"
    ]
   },
   "source": [
    "\n",
    "Exkurs: Vergleich von Listen und Numpy Arrays"
   ]
  },
  {
   "cell_type": "code",
   "execution_count": 106,
   "id": "30f9c4d7eb9d7009",
   "metadata": {},
   "outputs": [
    {
     "data": {
      "text/plain": [
       "True"
      ]
     },
     "execution_count": 106,
     "metadata": {},
     "output_type": "execute_result"
    }
   ],
   "source": [
    "[1, 2, 3] == [1, 2, 3]"
   ]
  },
  {
   "cell_type": "code",
   "execution_count": 15,
   "id": "0775239f38ea18a1",
   "metadata": {},
   "outputs": [
    {
     "data": {
      "text/plain": [
       "array([ True,  True,  True])"
      ]
     },
     "execution_count": 15,
     "metadata": {},
     "output_type": "execute_result"
    }
   ],
   "source": [
    "import numpy as np\n",
    "np.array([1, 2, 3]) == np.array([1, 2, 3]) "
   ]
  },
  {
   "cell_type": "code",
   "execution_count": 17,
   "id": "f069aaf2f17b2942",
   "metadata": {},
   "outputs": [
    {
     "data": {
      "text/plain": [
       "True"
      ]
     },
     "execution_count": 17,
     "metadata": {},
     "output_type": "execute_result"
    }
   ],
   "source": [
    "(np.array([1, 2, 3]) == np.array([1, 2, 3])).all() "
   ]
  },
  {
   "cell_type": "code",
   "execution_count": null,
   "id": "c078aef26513d5c6",
   "metadata": {},
   "outputs": [],
   "source": []
  },
  {
   "cell_type": "markdown",
   "id": "5efe5c8d0a2770c0",
   "metadata": {
    "lang": "de",
    "slideshow": {
     "slide_type": "subslide"
    },
    "tags": [
     "subslide"
    ]
   },
   "source": [
    "\n",
    "### Sanity Checks"
   ]
  },
  {
   "cell_type": "code",
   "execution_count": 87,
   "id": "f98938da85fe5471",
   "metadata": {},
   "outputs": [
    {
     "ename": "FileNotFoundError",
     "evalue": "[Errno 2] No such file or directory: 'C:\\\\Users\\\\Cedri\\\\AppData\\\\Local\\\\coding_academy\\\\python_courses\\\\pickles\\\\mnist-processed.pkl'",
     "output_type": "error",
     "traceback": [
      "\u001b[1;31m---------------------------------------------------------------------------\u001b[0m",
      "\u001b[1;31mFileNotFoundError\u001b[0m                         Traceback (most recent call last)",
      "Cell \u001b[1;32mIn[87], line 1\u001b[0m\n\u001b[1;32m----> 1\u001b[0m \u001b[38;5;28;01mwith\u001b[39;00m \u001b[38;5;28;43mopen\u001b[39;49m\u001b[43m(\u001b[49m\u001b[43mconfig\u001b[49m\u001b[38;5;241;43m.\u001b[39;49m\u001b[43mprocessed_mnist_pkl_path\u001b[49m\u001b[43m,\u001b[49m\u001b[43m \u001b[49m\u001b[38;5;124;43m\"\u001b[39;49m\u001b[38;5;124;43mrb\u001b[39;49m\u001b[38;5;124;43m\"\u001b[39;49m\u001b[43m)\u001b[49m \u001b[38;5;28;01mas\u001b[39;00m file:\n\u001b[0;32m      2\u001b[0m     loaded_mnist_data \u001b[38;5;241m=\u001b[39m pickle\u001b[38;5;241m.\u001b[39mload(file)\n",
      "File \u001b[1;32m~\\anaconda3\\envs\\ml-basic\\Lib\\site-packages\\IPython\\core\\interactiveshell.py:284\u001b[0m, in \u001b[0;36m_modified_open\u001b[1;34m(file, *args, **kwargs)\u001b[0m\n\u001b[0;32m    277\u001b[0m \u001b[38;5;28;01mif\u001b[39;00m file \u001b[38;5;129;01min\u001b[39;00m {\u001b[38;5;241m0\u001b[39m, \u001b[38;5;241m1\u001b[39m, \u001b[38;5;241m2\u001b[39m}:\n\u001b[0;32m    278\u001b[0m     \u001b[38;5;28;01mraise\u001b[39;00m \u001b[38;5;167;01mValueError\u001b[39;00m(\n\u001b[0;32m    279\u001b[0m         \u001b[38;5;124mf\u001b[39m\u001b[38;5;124m\"\u001b[39m\u001b[38;5;124mIPython won\u001b[39m\u001b[38;5;124m'\u001b[39m\u001b[38;5;124mt let you open fd=\u001b[39m\u001b[38;5;132;01m{\u001b[39;00mfile\u001b[38;5;132;01m}\u001b[39;00m\u001b[38;5;124m by default \u001b[39m\u001b[38;5;124m\"\u001b[39m\n\u001b[0;32m    280\u001b[0m         \u001b[38;5;124m\"\u001b[39m\u001b[38;5;124mas it is likely to crash IPython. If you know what you are doing, \u001b[39m\u001b[38;5;124m\"\u001b[39m\n\u001b[0;32m    281\u001b[0m         \u001b[38;5;124m\"\u001b[39m\u001b[38;5;124myou can use builtins\u001b[39m\u001b[38;5;124m'\u001b[39m\u001b[38;5;124m open.\u001b[39m\u001b[38;5;124m\"\u001b[39m\n\u001b[0;32m    282\u001b[0m     )\n\u001b[1;32m--> 284\u001b[0m \u001b[38;5;28;01mreturn\u001b[39;00m \u001b[43mio_open\u001b[49m\u001b[43m(\u001b[49m\u001b[43mfile\u001b[49m\u001b[43m,\u001b[49m\u001b[43m \u001b[49m\u001b[38;5;241;43m*\u001b[39;49m\u001b[43margs\u001b[49m\u001b[43m,\u001b[49m\u001b[43m \u001b[49m\u001b[38;5;241;43m*\u001b[39;49m\u001b[38;5;241;43m*\u001b[39;49m\u001b[43mkwargs\u001b[49m\u001b[43m)\u001b[49m\n",
      "\u001b[1;31mFileNotFoundError\u001b[0m: [Errno 2] No such file or directory: 'C:\\\\Users\\\\Cedri\\\\AppData\\\\Local\\\\coding_academy\\\\python_courses\\\\pickles\\\\mnist-processed.pkl'"
     ]
    }
   ],
   "source": [
    "with open(config.processed_mnist_pkl_path, \"rb\") as file:\n",
    "    loaded_mnist_data = pickle.load(file)"
   ]
  },
  {
   "cell_type": "code",
   "execution_count": 88,
   "id": "826221c55477e61d",
   "metadata": {},
   "outputs": [
    {
     "ename": "NameError",
     "evalue": "name 'loaded_mnist_data' is not defined",
     "output_type": "error",
     "traceback": [
      "\u001b[1;31m---------------------------------------------------------------------------\u001b[0m",
      "\u001b[1;31mNameError\u001b[0m                                 Traceback (most recent call last)",
      "Cell \u001b[1;32mIn[88], line 1\u001b[0m\n\u001b[1;32m----> 1\u001b[0m \u001b[38;5;28;01massert\u001b[39;00m (\u001b[43mloaded_mnist_data\u001b[49m[\u001b[38;5;124m\"\u001b[39m\u001b[38;5;124mx_test\u001b[39m\u001b[38;5;124m\"\u001b[39m] \u001b[38;5;241m==\u001b[39m X_test)\u001b[38;5;241m.\u001b[39mall()\n\u001b[0;32m      2\u001b[0m \u001b[38;5;28;01massert\u001b[39;00m (loaded_mnist_data[\u001b[38;5;124m\"\u001b[39m\u001b[38;5;124my_test\u001b[39m\u001b[38;5;124m\"\u001b[39m] \u001b[38;5;241m==\u001b[39m y_test)\u001b[38;5;241m.\u001b[39mall()\n\u001b[0;32m      3\u001b[0m \u001b[38;5;28;01massert\u001b[39;00m (loaded_mnist_data[\u001b[38;5;124m\"\u001b[39m\u001b[38;5;124mx_train\u001b[39m\u001b[38;5;124m\"\u001b[39m] \u001b[38;5;241m==\u001b[39m X_train)\u001b[38;5;241m.\u001b[39mall()\n",
      "\u001b[1;31mNameError\u001b[0m: name 'loaded_mnist_data' is not defined"
     ]
    }
   ],
   "source": [
    "assert (loaded_mnist_data[\"x_test\"] == X_test).all()\n",
    "assert (loaded_mnist_data[\"y_test\"] == y_test).all()\n",
    "assert (loaded_mnist_data[\"x_train\"] == X_train).all()\n",
    "assert (loaded_mnist_data[\"y_train\"] == y_train).all()"
   ]
  },
  {
   "cell_type": "code",
   "execution_count": null,
   "id": "33f2d0b0bf67a105",
   "metadata": {},
   "outputs": [],
   "source": []
  },
  {
   "cell_type": "markdown",
   "id": "8ab94d1fa309c48a",
   "metadata": {
    "lang": "de",
    "slideshow": {
     "slide_type": "slide"
    },
    "tags": [
     "slide"
    ]
   },
   "source": [
    "\n",
    "## Workshop: Vorbereiten der Fashion-MNIST Daten\n",
    "\n",
    "Bereiten Sie die Fashion-MNIST Daten für Machine-Learning Algorithmen vor:\n",
    "\n",
    "- Laden Sie die in einem vorhergehenden Workshop gespeicherte Pickle-Datei.\n",
    "- Analysieren Sie das Format der wichtigsten Attribute.\n",
    "- Konvertieren Sie die beiden Attribute in Numpy Arrays und speichern Sie die\n",
    "  Resultate in Variablen `X` und `y`.\n",
    "- Lassen Sie sich Bilder der ersten Einträge in `X` anzeigen.\n",
    "- Konvertieren Sie die Werte in `y` in `int`-Werte.\n",
    "- Teilen Sie die Daten in Trainings- und Test-Daten auf.\n",
    "- Speichern Sie die bearbeiteten Daten."
   ]
  },
  {
   "cell_type": "code",
   "execution_count": 194,
   "id": "fe7e53d266d7926f",
   "metadata": {
    "slideshow": {
     "slide_type": "subslide"
    },
    "tags": [
     "subslide",
     "keep"
    ]
   },
   "outputs": [],
   "source": [
    "try:  # noqa\n",
    "    from python_courses.envconfig import EnvConfig\n",
    "except ModuleNotFoundError:\n",
    "    from envconfig import EnvConfig  # noqa"
   ]
  },
  {
   "cell_type": "code",
   "execution_count": 195,
   "id": "0c9990adee8edf30",
   "metadata": {
    "tags": [
     "keep"
    ]
   },
   "outputs": [],
   "source": [
    "from textwrap import wrap"
   ]
  },
  {
   "cell_type": "code",
   "execution_count": 196,
   "id": "6841e40d089db707",
   "metadata": {
    "tags": [
     "keep"
    ]
   },
   "outputs": [],
   "source": [
    "config = EnvConfig()"
   ]
  },
  {
   "cell_type": "code",
   "execution_count": 197,
   "id": "351cf254cdd94608",
   "metadata": {
    "lines_to_next_cell": 2,
    "tags": [
     "keep"
    ]
   },
   "outputs": [],
   "source": [
    "def print_wrapped(text: str):\n",
    "    for paragraph in text.split(\"\\n\"):\n",
    "        print(\"\\n\".join(wrap(paragraph)))"
   ]
  },
  {
   "cell_type": "markdown",
   "id": "fb8377a708d3a016",
   "metadata": {
    "lang": "de",
    "lines_to_next_cell": 2,
    "slideshow": {
     "slide_type": "subslide"
    },
    "tags": [
     "subslide"
    ]
   },
   "source": [
    "\n",
    "- Laden Sie die in einem vorhergehenden Workshop gespeicherte Pickle-Datei."
   ]
  },
  {
   "cell_type": "code",
   "execution_count": 198,
   "id": "e807e084a8b3a482",
   "metadata": {},
   "outputs": [],
   "source": [
    "with open(config.fashion_mnist_pkl_path, \"rb\") as file:\n",
    "    fashion_mnist = pickle.load(file)"
   ]
  },
  {
   "cell_type": "code",
   "execution_count": 199,
   "id": "0ac1061b47dc4db3",
   "metadata": {},
   "outputs": [
    {
     "data": {
      "text/plain": [
       "sklearn.utils._bunch.Bunch"
      ]
     },
     "execution_count": 199,
     "metadata": {},
     "output_type": "execute_result"
    }
   ],
   "source": [
    "type(fashion_mnist)"
   ]
  },
  {
   "cell_type": "markdown",
   "id": "bb602b9cfaeb542d",
   "metadata": {
    "lang": "de",
    "slideshow": {
     "slide_type": "subslide"
    },
    "tags": [
     "subslide"
    ]
   },
   "source": [
    "\n",
    "- Analysieren Sie den Typ und die Keys des geladenen Objekts\n",
    "- Analysieren Sie das Format der `data`- und `target`-Attribute.\n",
    "- Lassen Sie sich die Beschreibung im `DESCR`-Attribut anzeigen."
   ]
  },
  {
   "cell_type": "code",
   "execution_count": 200,
   "id": "24d413e6fbcf41ee",
   "metadata": {
    "slideshow": {
     "slide_type": "subslide"
    },
    "tags": [
     "subslide"
    ]
   },
   "outputs": [
    {
     "data": {
      "text/plain": [
       "pandas.core.frame.DataFrame"
      ]
     },
     "execution_count": 200,
     "metadata": {},
     "output_type": "execute_result"
    }
   ],
   "source": [
    "type(fashion_mnist[\"data\"])"
   ]
  },
  {
   "cell_type": "code",
   "execution_count": 201,
   "id": "9a309c8f3e8ccd66",
   "metadata": {},
   "outputs": [
    {
     "data": {
      "text/plain": [
       "(70000, 784)"
      ]
     },
     "execution_count": 201,
     "metadata": {},
     "output_type": "execute_result"
    }
   ],
   "source": [
    "fashion_mnist.data.shape"
   ]
  },
  {
   "cell_type": "code",
   "execution_count": 202,
   "id": "9debdfb2cebf9cab",
   "metadata": {},
   "outputs": [
    {
     "data": {
      "text/plain": [
       "(70000,)"
      ]
     },
     "execution_count": 202,
     "metadata": {},
     "output_type": "execute_result"
    }
   ],
   "source": [
    "fashion_mnist.target.shape"
   ]
  },
  {
   "cell_type": "code",
   "execution_count": 203,
   "id": "8b2d1a4536bc53fc",
   "metadata": {},
   "outputs": [
    {
     "name": "stdout",
     "output_type": "stream",
     "text": [
      "**Author**: Han Xiao, Kashif Rasul, Roland Vollgraf\n",
      "**Source**: [Zalando\n",
      "Research](https://github.com/zalandoresearch/fashion-mnist)\n",
      "**Please cite**: Han Xiao and Kashif Rasul and Roland Vollgraf,\n",
      "Fashion-MNIST: a Novel Image Dataset for Benchmarking Machine Learning\n",
      "Algorithms, arXiv, cs.LG/1708.07747\n",
      "\n",
      "Fashion-MNIST is a dataset of Zalando's article images, consisting of\n",
      "a training set of 60,000 examples and a test set of 10,000 examples.\n",
      "Each example is a 28x28 grayscale image, associated with a label from\n",
      "10 classes. Fashion-MNIST is intended to serve as a direct drop-in\n",
      "replacement for the original MNIST dataset for benchmarking machine\n",
      "learning algorithms. It shares the same image size and structure of\n",
      "training and testing splits.\n",
      "\n",
      "Raw data available at: https://github.com/zalandoresearch/fashion-\n",
      "mnist\n",
      "\n",
      "### Target classes\n",
      "Each training and test example is assigned to one of the following\n",
      "labels:\n",
      "Label  Description\n",
      "0  T-shirt/top\n",
      "1  Trouser\n",
      "2  Pullover\n",
      "3  Dress\n",
      "4  Coat\n",
      "5  Sandal\n",
      "6  Shirt\n",
      "7  Sneaker\n",
      "8  Bag\n",
      "9  Ankle boot\n",
      "\n",
      "Downloaded from openml.org.\n"
     ]
    }
   ],
   "source": [
    "print_wrapped(fashion_mnist[\"DESCR\"])"
   ]
  },
  {
   "cell_type": "code",
   "execution_count": null,
   "id": "71d0361b6ca3202e",
   "metadata": {},
   "outputs": [],
   "source": []
  },
  {
   "cell_type": "code",
   "execution_count": null,
   "id": "cc455686d0d15843",
   "metadata": {},
   "outputs": [],
   "source": []
  },
  {
   "cell_type": "code",
   "execution_count": null,
   "id": "a6ef14b4a68a3c9b",
   "metadata": {
    "slideshow": {
     "slide_type": "subslide"
    },
    "tags": [
     "subslide"
    ]
   },
   "outputs": [],
   "source": []
  },
  {
   "cell_type": "markdown",
   "id": "859baaa96dce71f8",
   "metadata": {
    "lang": "de",
    "lines_to_next_cell": 2,
    "slideshow": {
     "slide_type": "subslide"
    },
    "tags": [
     "subslide"
    ]
   },
   "source": [
    "\n",
    "- Konvertieren Sie die beiden Attribute in Numpy Arrays und speichern Sie die\n",
    "  Resultate in Variablen `X` und `y`.\n",
    "- Analysieren Sie dir Form der erhaltenen Arrays und die Wertebereiche der Elemente."
   ]
  },
  {
   "cell_type": "code",
   "execution_count": 204,
   "id": "4b7a4698242cccd9",
   "metadata": {},
   "outputs": [],
   "source": [
    "X = fashion_mnist.data.to_numpy()"
   ]
  },
  {
   "cell_type": "code",
   "execution_count": 205,
   "id": "77bde0feaf8a0d07",
   "metadata": {},
   "outputs": [],
   "source": [
    "y = fashion_mnist.target.to_numpy()"
   ]
  },
  {
   "cell_type": "code",
   "execution_count": 206,
   "id": "43fd84d3369f18aa",
   "metadata": {},
   "outputs": [
    {
     "data": {
      "text/plain": [
       "(70000, 784)"
      ]
     },
     "execution_count": 206,
     "metadata": {},
     "output_type": "execute_result"
    }
   ],
   "source": [
    "X.shape"
   ]
  },
  {
   "cell_type": "code",
   "execution_count": 207,
   "id": "8d984690744393ce",
   "metadata": {},
   "outputs": [
    {
     "data": {
      "text/plain": [
       "array([  0,   0,   0,   0,   0,   0,   0,   0,   0,   0,   0,   0,   0,\n",
       "         0,   0,   0,   0,   0,   0,   0,   0,   0,   0,   0,   0,   0,\n",
       "         0,   0,   0,   0,   0,   0,   0,   0,   0,   0,   0,   0,   0,\n",
       "         0,   0,   0,   0,   0,   0,   0,   0,   0,   0,   0,   0,   0,\n",
       "         0,   0,   0,   0,   0,   0,   0,   0,   0,   0,   0,   0,   0,\n",
       "         0,   0,   0,   0,   0,   0,   0,   0,   0,   0,   0,   0,   0,\n",
       "         0,   0,   0,   0,   0,   0,   0,   0,   0,   0,   0,   0,   0,\n",
       "         0,   0,   0,   0,   0,   1,   0,   0,  13,  73,   0,   0,   1,\n",
       "         4,   0,   0,   0,   0,   1,   1,   0,   0,   0,   0,   0,   0,\n",
       "         0,   0,   0,   0,   0,   0,   0,   3,   0,  36, 136, 127,  62,\n",
       "        54,   0,   0,   0,   1,   3,   4,   0,   0,   3,   0,   0,   0,\n",
       "         0,   0,   0,   0,   0,   0,   0,   0,   0,   6,   0, 102, 204,\n",
       "       176, 134, 144, 123,  23,   0,   0,   0,   0,  12,  10,   0,   0,\n",
       "         0,   0,   0,   0,   0,   0,   0,   0,   0,   0,   0,   0,   0,\n",
       "       155, 236, 207, 178, 107, 156, 161, 109,  64,  23,  77, 130,  72,\n",
       "        15,   0,   0,   0,   0,   0,   0,   0,   0,   0,   0,   0,   1,\n",
       "         0,  69, 207, 223, 218, 216, 216, 163, 127, 121, 122, 146, 141,\n",
       "        88, 172,  66,   0,   0,   0,   0,   0,   0,   0,   0,   0,   1,\n",
       "         1,   1,   0, 200, 232, 232, 233, 229, 223, 223, 215, 213, 164,\n",
       "       127, 123, 196, 229,   0,   0,   0,   0,   0,   0,   0,   0,   0,\n",
       "         0,   0,   0,   0,   0, 183, 225, 216, 223, 228, 235, 227, 224,\n",
       "       222, 224, 221, 223, 245, 173,   0,   0,   0,   0,   0,   0,   0,\n",
       "         0,   0,   0,   0,   0,   0,   0, 193, 228, 218, 213, 198, 180,\n",
       "       212, 210, 211, 213, 223, 220, 243, 202,   0,   0,   0,   0,   0,\n",
       "         0,   0,   0,   0,   0,   1,   3,   0,  12, 219, 220, 212, 218,\n",
       "       192, 169, 227, 208, 218, 224, 212, 226, 197, 209,  52,   0,   0,\n",
       "         0,   0,   0,   0,   0,   0,   0,   0,   6,   0,  99, 244, 222,\n",
       "       220, 218, 203, 198, 221, 215, 213, 222, 220, 245, 119, 167,  56,\n",
       "         0,   0,   0,   0,   0,   0,   0,   0,   0,   4,   0,   0,  55,\n",
       "       236, 228, 230, 228, 240, 232, 213, 218, 223, 234, 217, 217, 209,\n",
       "        92,   0,   0,   0,   1,   4,   6,   7,   2,   0,   0,   0,   0,\n",
       "         0, 237, 226, 217, 223, 222, 219, 222, 221, 216, 223, 229, 215,\n",
       "       218, 255,  77,   0,   0,   3,   0,   0,   0,   0,   0,   0,   0,\n",
       "        62, 145, 204, 228, 207, 213, 221, 218, 208, 211, 218, 224, 223,\n",
       "       219, 215, 224, 244, 159,   0,   0,   0,   0,   0,  18,  44,  82,\n",
       "       107, 189, 228, 220, 222, 217, 226, 200, 205, 211, 230, 224, 234,\n",
       "       176, 188, 250, 248, 233, 238, 215,   0,   0,  57, 187, 208, 224,\n",
       "       221, 224, 208, 204, 214, 208, 209, 200, 159, 245, 193, 206, 223,\n",
       "       255, 255, 221, 234, 221, 211, 220, 232, 246,   0,   3, 202, 228,\n",
       "       224, 221, 211, 211, 214, 205, 205, 205, 220, 240,  80, 150, 255,\n",
       "       229, 221, 188, 154, 191, 210, 204, 209, 222, 228, 225,   0,  98,\n",
       "       233, 198, 210, 222, 229, 229, 234, 249, 220, 194, 215, 217, 241,\n",
       "        65,  73, 106, 117, 168, 219, 221, 215, 217, 223, 223, 224, 229,\n",
       "        29,  75, 204, 212, 204, 193, 205, 211, 225, 216, 185, 197, 206,\n",
       "       198, 213, 240, 195, 227, 245, 239, 223, 218, 212, 209, 222, 220,\n",
       "       221, 230,  67,  48, 203, 183, 194, 213, 197, 185, 190, 194, 192,\n",
       "       202, 214, 219, 221, 220, 236, 225, 216, 199, 206, 186, 181, 177,\n",
       "       172, 181, 205, 206, 115,   0, 122, 219, 193, 179, 171, 183, 196,\n",
       "       204, 210, 213, 207, 211, 210, 200, 196, 194, 191, 195, 191, 198,\n",
       "       192, 176, 156, 167, 177, 210,  92,   0,   0,  74, 189, 212, 191,\n",
       "       175, 172, 175, 181, 185, 188, 189, 188, 193, 198, 204, 209, 210,\n",
       "       210, 211, 188, 188, 194, 192, 216, 170,   0,   2,   0,   0,   0,\n",
       "        66, 200, 222, 237, 239, 242, 246, 243, 244, 221, 220, 193, 191,\n",
       "       179, 182, 182, 181, 176, 166, 168,  99,  58,   0,   0,   0,   0,\n",
       "         0,   0,   0,   0,   0,  40,  61,  44,  72,  41,  35,   0,   0,\n",
       "         0,   0,   0,   0,   0,   0,   0,   0,   0,   0,   0,   0,   0,\n",
       "         0,   0,   0,   0,   0,   0,   0,   0,   0,   0,   0,   0,   0,\n",
       "         0,   0,   0,   0,   0,   0,   0,   0,   0,   0,   0,   0,   0,\n",
       "         0,   0,   0,   0,   0,   0,   0,   0,   0,   0,   0,   0,   0,\n",
       "         0,   0,   0,   0,   0,   0,   0,   0,   0,   0,   0,   0,   0,\n",
       "         0,   0,   0,   0], dtype=int64)"
      ]
     },
     "execution_count": 207,
     "metadata": {},
     "output_type": "execute_result"
    }
   ],
   "source": [
    "X[0]"
   ]
  },
  {
   "cell_type": "code",
   "execution_count": 208,
   "id": "a39781308ddb31d4",
   "metadata": {
    "slideshow": {
     "slide_type": "subslide"
    },
    "tags": [
     "subslide"
    ]
   },
   "outputs": [
    {
     "ename": "AttributeError",
     "evalue": "module 'matplotlib' has no attribute 'subplots'",
     "output_type": "error",
     "traceback": [
      "\u001b[1;31m---------------------------------------------------------------------------\u001b[0m",
      "\u001b[1;31mAttributeError\u001b[0m                            Traceback (most recent call last)",
      "Cell \u001b[1;32mIn[208], line 1\u001b[0m\n\u001b[1;32m----> 1\u001b[0m fig, axes \u001b[38;5;241m=\u001b[39m \u001b[43mplt\u001b[49m\u001b[38;5;241;43m.\u001b[39;49m\u001b[43msubplots\u001b[49m(\u001b[38;5;241m10\u001b[39m,\u001b[38;5;241m10\u001b[39m)\n\u001b[0;32m      2\u001b[0m \u001b[38;5;28;01mfor\u001b[39;00m idx, ax \u001b[38;5;129;01min\u001b[39;00m \u001b[38;5;28menumerate\u001b[39m(np\u001b[38;5;241m.\u001b[39marray(axes)\u001b[38;5;241m.\u001b[39mravel()):\n\u001b[0;32m      3\u001b[0m     ax\u001b[38;5;241m.\u001b[39mimshow(X[idx]\u001b[38;5;241m.\u001b[39mreshape(\u001b[38;5;241m28\u001b[39m,\u001b[38;5;241m28\u001b[39m), cmap\u001b[38;5;241m=\u001b[39m\u001b[38;5;124m\"\u001b[39m\u001b[38;5;124mbinary\u001b[39m\u001b[38;5;124m\"\u001b[39m)\n",
      "File \u001b[1;32m~\\anaconda3\\envs\\ml-basic\\Lib\\site-packages\\matplotlib\\_api\\__init__.py:226\u001b[0m, in \u001b[0;36mcaching_module_getattr.<locals>.__getattr__\u001b[1;34m(name)\u001b[0m\n\u001b[0;32m    224\u001b[0m \u001b[38;5;28;01mif\u001b[39;00m name \u001b[38;5;129;01min\u001b[39;00m props:\n\u001b[0;32m    225\u001b[0m     \u001b[38;5;28;01mreturn\u001b[39;00m props[name]\u001b[38;5;241m.\u001b[39m\u001b[38;5;21m__get__\u001b[39m(instance)\n\u001b[1;32m--> 226\u001b[0m \u001b[38;5;28;01mraise\u001b[39;00m \u001b[38;5;167;01mAttributeError\u001b[39;00m(\n\u001b[0;32m    227\u001b[0m     \u001b[38;5;124mf\u001b[39m\u001b[38;5;124m\"\u001b[39m\u001b[38;5;124mmodule \u001b[39m\u001b[38;5;132;01m{\u001b[39;00m\u001b[38;5;28mcls\u001b[39m\u001b[38;5;241m.\u001b[39m\u001b[38;5;18m__module__\u001b[39m\u001b[38;5;132;01m!r}\u001b[39;00m\u001b[38;5;124m has no attribute \u001b[39m\u001b[38;5;132;01m{\u001b[39;00mname\u001b[38;5;132;01m!r}\u001b[39;00m\u001b[38;5;124m\"\u001b[39m)\n",
      "\u001b[1;31mAttributeError\u001b[0m: module 'matplotlib' has no attribute 'subplots'"
     ]
    }
   ],
   "source": [
    "fig, axes = plt.subplots(10,10)\n",
    "for idx, ax in enumerate(np.array(axes).ravel()):\n",
    "    ax.imshow(X[idx].reshape(28,28), cmap=\"binary\")\n",
    "    ax.set_xticks([],[])\n",
    "    ax.set_yticks([],[])"
   ]
  },
  {
   "cell_type": "code",
   "execution_count": 209,
   "id": "c1aa912a5b01e59c",
   "metadata": {},
   "outputs": [],
   "source": [
    "y = y.astype(np.int32)"
   ]
  },
  {
   "cell_type": "code",
   "execution_count": null,
   "id": "2ddf76d21dcd9e93",
   "metadata": {},
   "outputs": [],
   "source": []
  },
  {
   "cell_type": "code",
   "execution_count": null,
   "id": "9d0d5a602deb7343",
   "metadata": {},
   "outputs": [],
   "source": []
  },
  {
   "cell_type": "code",
   "execution_count": null,
   "id": "e82120858ef2376a",
   "metadata": {},
   "outputs": [],
   "source": []
  },
  {
   "cell_type": "code",
   "execution_count": null,
   "id": "d787fabf7f37d9b1",
   "metadata": {},
   "outputs": [],
   "source": []
  },
  {
   "cell_type": "code",
   "execution_count": null,
   "id": "9189f60d213fe786",
   "metadata": {
    "slideshow": {
     "slide_type": "subslide"
    },
    "tags": [
     "subslide"
    ]
   },
   "outputs": [],
   "source": []
  },
  {
   "cell_type": "code",
   "execution_count": null,
   "id": "1bd943e2d0746fd9",
   "metadata": {},
   "outputs": [],
   "source": []
  },
  {
   "cell_type": "code",
   "execution_count": null,
   "id": "592a94ee7a619b02",
   "metadata": {},
   "outputs": [],
   "source": []
  },
  {
   "cell_type": "code",
   "execution_count": null,
   "id": "1a1216f890229c71",
   "metadata": {},
   "outputs": [],
   "source": []
  },
  {
   "cell_type": "code",
   "execution_count": null,
   "id": "3191bddf442080e3",
   "metadata": {},
   "outputs": [],
   "source": []
  },
  {
   "cell_type": "markdown",
   "id": "e7de4ee4633dbbdf",
   "metadata": {
    "lang": "de",
    "slideshow": {
     "slide_type": "slide"
    },
    "tags": [
     "slide"
    ]
   },
   "source": [
    "\n",
    "- Lassen Sie sich Bilder der ersten Einträge in `X` anzeigen."
   ]
  },
  {
   "cell_type": "code",
   "execution_count": null,
   "id": "9afb43cb6cfdd60c",
   "metadata": {},
   "outputs": [],
   "source": []
  },
  {
   "cell_type": "code",
   "execution_count": null,
   "id": "9b2e5f69b90cca03",
   "metadata": {},
   "outputs": [],
   "source": []
  },
  {
   "cell_type": "code",
   "execution_count": null,
   "id": "4246c45f5df43315",
   "metadata": {},
   "outputs": [],
   "source": []
  },
  {
   "cell_type": "code",
   "execution_count": null,
   "id": "5cd6c23644d6a387",
   "metadata": {
    "slideshow": {
     "slide_type": "subslide"
    },
    "tags": [
     "subslide"
    ]
   },
   "outputs": [],
   "source": []
  },
  {
   "cell_type": "code",
   "execution_count": null,
   "id": "66bae9ae1a31e06b",
   "metadata": {},
   "outputs": [],
   "source": []
  },
  {
   "cell_type": "code",
   "execution_count": null,
   "id": "b2169c37a252a357",
   "metadata": {
    "slideshow": {
     "slide_type": "subslide"
    },
    "tags": [
     "subslide"
    ]
   },
   "outputs": [],
   "source": []
  },
  {
   "cell_type": "code",
   "execution_count": null,
   "id": "4f92e125d0108fc3",
   "metadata": {},
   "outputs": [],
   "source": []
  },
  {
   "cell_type": "code",
   "execution_count": null,
   "id": "d2c81192b07dce1e",
   "metadata": {
    "slideshow": {
     "slide_type": "subslide"
    },
    "tags": [
     "subslide"
    ]
   },
   "outputs": [],
   "source": []
  },
  {
   "cell_type": "markdown",
   "id": "d1388cfa9367ec66",
   "metadata": {
    "lang": "de",
    "slideshow": {
     "slide_type": "slide"
    },
    "tags": [
     "slide"
    ]
   },
   "source": [
    "\n",
    "- Konvertieren Sie die Werte in `y` in `int`-Werte."
   ]
  },
  {
   "cell_type": "code",
   "execution_count": null,
   "id": "98f703d7abb8355e",
   "metadata": {},
   "outputs": [],
   "source": []
  },
  {
   "cell_type": "code",
   "execution_count": null,
   "id": "5bd5551193a60388",
   "metadata": {},
   "outputs": [],
   "source": []
  },
  {
   "cell_type": "code",
   "execution_count": null,
   "id": "603472f6d1e443a8",
   "metadata": {},
   "outputs": [],
   "source": []
  },
  {
   "cell_type": "markdown",
   "id": "7198d997381949da",
   "metadata": {
    "lang": "de",
    "slideshow": {
     "slide_type": "slide"
    },
    "tags": [
     "slide"
    ]
   },
   "source": [
    "\n",
    "- Teilen Sie die Daten in Trainings- und Test-Daten auf."
   ]
  },
  {
   "cell_type": "code",
   "execution_count": 210,
   "id": "3567a85338784553",
   "metadata": {},
   "outputs": [],
   "source": [
    "x_train, x_test = X[:60_000], X[60_000:]"
   ]
  },
  {
   "cell_type": "code",
   "execution_count": 211,
   "id": "e21aacf3a240d628",
   "metadata": {},
   "outputs": [],
   "source": [
    "y_train, y_test = y[:60_000], y[60_000:]"
   ]
  },
  {
   "cell_type": "markdown",
   "id": "b9549e2da509c815",
   "metadata": {
    "lang": "de",
    "slideshow": {
     "slide_type": "slide"
    },
    "tags": [
     "slide"
    ]
   },
   "source": [
    "\n",
    "- Speichern Sie ein Dictionary mit den bearbeiteten Daten.\n",
    "- Überprüfen Sie, dass die richtigen Daten gespeichert wurden."
   ]
  },
  {
   "cell_type": "code",
   "execution_count": 212,
   "id": "0ca0e42f17c10f0e",
   "metadata": {
    "slideshow": {
     "slide_type": "subslide"
    },
    "tags": [
     "subslide",
     "keep"
    ]
   },
   "outputs": [],
   "source": [
    "processed_fashion_mnist_data = {\n",
    "    \"x_train\": x_train,\n",
    "    \"x_test\": x_test,\n",
    "    \"y_train\": y_train,\n",
    "    \"y_test\": y_test,\n",
    "}"
   ]
  },
  {
   "cell_type": "code",
   "execution_count": 213,
   "id": "775c997a",
   "metadata": {},
   "outputs": [
    {
     "data": {
      "text/plain": [
       "{'x_train': array([[0, 0, 0, ..., 0, 0, 0],\n",
       "        [0, 0, 0, ..., 0, 0, 0],\n",
       "        [0, 0, 0, ..., 0, 0, 0],\n",
       "        ...,\n",
       "        [0, 0, 0, ..., 0, 0, 0],\n",
       "        [0, 0, 0, ..., 0, 0, 0],\n",
       "        [0, 0, 0, ..., 0, 0, 0]], dtype=int64),\n",
       " 'x_test': array([[0, 0, 0, ..., 0, 0, 0],\n",
       "        [0, 0, 0, ..., 0, 0, 0],\n",
       "        [0, 0, 0, ..., 0, 0, 0],\n",
       "        ...,\n",
       "        [0, 0, 0, ..., 0, 0, 0],\n",
       "        [0, 0, 0, ..., 0, 0, 0],\n",
       "        [0, 0, 0, ..., 0, 0, 0]], dtype=int64),\n",
       " 'y_train': array([9, 0, 0, ..., 3, 0, 5]),\n",
       " 'y_test': array([9, 2, 1, ..., 8, 1, 5])}"
      ]
     },
     "execution_count": 213,
     "metadata": {},
     "output_type": "execute_result"
    }
   ],
   "source": [
    "processed_fashion_mnist_data"
   ]
  },
  {
   "cell_type": "code",
   "execution_count": 214,
   "id": "7b658afe",
   "metadata": {},
   "outputs": [
    {
     "data": {
      "text/plain": [
       "{'x_train': array([[0, 0, 0, ..., 0, 0, 0],\n",
       "        [0, 0, 0, ..., 0, 0, 0],\n",
       "        [0, 0, 0, ..., 0, 0, 0],\n",
       "        ...,\n",
       "        [0, 0, 0, ..., 0, 0, 0],\n",
       "        [0, 0, 0, ..., 0, 0, 0],\n",
       "        [0, 0, 0, ..., 0, 0, 0]], dtype=int64),\n",
       " 'x_test': array([[0, 0, 0, ..., 0, 0, 0],\n",
       "        [0, 0, 0, ..., 0, 0, 0],\n",
       "        [0, 0, 0, ..., 0, 0, 0],\n",
       "        ...,\n",
       "        [0, 0, 0, ..., 0, 0, 0],\n",
       "        [0, 0, 0, ..., 0, 0, 0],\n",
       "        [0, 0, 0, ..., 0, 0, 0]], dtype=int64),\n",
       " 'y_train': array([9, 0, 0, ..., 3, 0, 5]),\n",
       " 'y_test': array([9, 2, 1, ..., 8, 1, 5])}"
      ]
     },
     "execution_count": 214,
     "metadata": {},
     "output_type": "execute_result"
    }
   ],
   "source": [
    "process_mnist_data"
   ]
  },
  {
   "cell_type": "code",
   "execution_count": 215,
   "id": "d91fc9013da38e54",
   "metadata": {
    "slideshow": {
     "slide_type": "subslide"
    },
    "tags": [
     "subslide"
    ]
   },
   "outputs": [],
   "source": [
    "with open(config.processed_fashion_mnist_pkl_path, \"wb\") as file:\n",
    "    pickle.dump(processed_fashion_mnist_data, file)"
   ]
  },
  {
   "cell_type": "code",
   "execution_count": null,
   "id": "c2a2bebb625a96ce",
   "metadata": {},
   "outputs": [],
   "source": []
  },
  {
   "cell_type": "code",
   "execution_count": null,
   "id": "ccfa9bf6f244ace3",
   "metadata": {
    "slideshow": {
     "slide_type": "subslide"
    },
    "tags": [
     "subslide"
    ]
   },
   "outputs": [],
   "source": []
  },
  {
   "cell_type": "code",
   "execution_count": 216,
   "id": "3584c360c1144a3a",
   "metadata": {
    "tags": [
     "keep"
    ]
   },
   "outputs": [
    {
     "name": "stdout",
     "output_type": "stream",
     "text": [
      "\n",
      "\n",
      "Done!\n"
     ]
    }
   ],
   "source": [
    "print(\"\\n\\nDone!\")"
   ]
  },
  {
   "cell_type": "code",
   "execution_count": null,
   "id": "ae3c07de",
   "metadata": {},
   "outputs": [],
   "source": []
  }
 ],
 "metadata": {
  "kernelspec": {
   "display_name": "Python 3 (ipykernel)",
   "language": "python",
   "name": "python3"
  },
  "language_info": {
   "codemirror_mode": {
    "name": "ipython",
    "version": 3
   },
   "file_extension": ".py",
   "mimetype": "text/x-python",
   "name": "python",
   "nbconvert_exporter": "python",
   "pygments_lexer": "ipython3",
   "version": "3.11.5"
  }
 },
 "nbformat": 4,
 "nbformat_minor": 5
}
