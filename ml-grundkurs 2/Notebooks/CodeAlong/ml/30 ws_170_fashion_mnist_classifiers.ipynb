{
 "cells": [
  {
   "cell_type": "markdown",
   "id": "2866b7dfefd1400b",
   "metadata": {
    "lang": "de",
    "slideshow": {
     "slide_type": "slide"
    },
    "tags": [
     "slide"
    ]
   },
   "source": [
    "\n",
    "## Mini-Workshop: Klassifizierer für Fashion-MNIST\n",
    "\n",
    "- Trainieren und evaluieren Sie folgende Klassifizierer für Sneaker\n",
    "  für den Fashion-MNIST Datensatz:\n",
    "  - `sklearn.linear_model.RidgeClassifier`\n",
    "  - `sklearn.tree.DecisionTreeClassifier`\n",
    "  - `sklearn.neighbors.KNeighborsClassifier`\n",
    "  - `sklearn.ensemble.RandomForestClassifier`\n",
    "  - `sklearn.ensemble.HistGradientBoostingClassifier`"
   ]
  },
  {
   "cell_type": "code",
   "execution_count": null,
   "id": "5aa11737f1923791",
   "metadata": {
    "slideshow": {
     "slide_type": "subslide"
    },
    "tags": [
     "subslide",
     "keep"
    ]
   },
   "outputs": [],
   "source": [
    "import pickle\n",
    "\n",
    "import matplotlib.pyplot as plt  # noqa\n",
    "import numpy as np  # noqa"
   ]
  },
  {
   "cell_type": "code",
   "execution_count": null,
   "id": "8ebdbe73cbae2d7e",
   "metadata": {
    "slideshow": {
     "slide_type": "subslide"
    },
    "tags": [
     "subslide",
     "keep"
    ]
   },
   "outputs": [],
   "source": [
    "try:\n",
    "    from python_courses.envconfig import EnvConfig\n",
    "except ModuleNotFoundError:\n",
    "    from envconfig import EnvConfig  # noqa"
   ]
  },
  {
   "cell_type": "code",
   "execution_count": null,
   "id": "9c0e2ebbe685ef82",
   "metadata": {
    "lines_to_next_cell": 0,
    "tags": [
     "keep"
    ]
   },
   "outputs": [],
   "source": [
    "config = EnvConfig()"
   ]
  },
  {
   "cell_type": "code",
   "execution_count": null,
   "id": "fdc981d3d336cb95",
   "metadata": {
    "slideshow": {
     "slide_type": "subslide"
    },
    "tags": [
     "subslide",
     "keep"
    ]
   },
   "outputs": [],
   "source": [
    "with open(config.processed_fashion_mnist_pkl_path, \"rb\") as file:\n",
    "    fashion_mnist_data = pickle.load(file)"
   ]
  },
  {
   "cell_type": "code",
   "execution_count": null,
   "id": "ca5b3d35af79a8d0",
   "metadata": {
    "lines_to_next_cell": 0,
    "tags": [
     "keep"
    ]
   },
   "outputs": [],
   "source": [
    "x_train = fashion_mnist_data[\"x_train\"]\n",
    "x_test = fashion_mnist_data[\"x_test\"]\n",
    "y_train = fashion_mnist_data[\"y_train\"]\n",
    "y_test = fashion_mnist_data[\"y_test\"]"
   ]
  },
  {
   "cell_type": "code",
   "execution_count": null,
   "id": "c01fd6f359a51762",
   "metadata": {
    "tags": [
     "keep"
    ]
   },
   "outputs": [],
   "source": [
    "sneaker_train = y_train == 7\n",
    "sneaker_test = y_test == 7"
   ]
  },
  {
   "cell_type": "code",
   "execution_count": null,
   "id": "dc6274627941c39d",
   "metadata": {
    "slideshow": {
     "slide_type": "subslide"
    },
    "tags": [
     "subslide"
    ]
   },
   "outputs": [],
   "source": []
  },
  {
   "cell_type": "code",
   "execution_count": null,
   "id": "cb240515574cb6dc",
   "metadata": {},
   "outputs": [],
   "source": []
  },
  {
   "cell_type": "code",
   "execution_count": null,
   "id": "6b0039b531215be3",
   "metadata": {
    "slideshow": {
     "slide_type": "subslide"
    },
    "tags": [
     "subslide"
    ]
   },
   "outputs": [],
   "source": []
  },
  {
   "cell_type": "code",
   "execution_count": null,
   "id": "cd8ec30889b829b2",
   "metadata": {},
   "outputs": [],
   "source": []
  },
  {
   "cell_type": "code",
   "execution_count": null,
   "id": "2f05e8fcfc1ecd69",
   "metadata": {
    "slideshow": {
     "slide_type": "subslide"
    },
    "tags": [
     "subslide"
    ]
   },
   "outputs": [],
   "source": []
  },
  {
   "cell_type": "code",
   "execution_count": null,
   "id": "3db8636539ebb59c",
   "metadata": {},
   "outputs": [],
   "source": []
  },
  {
   "cell_type": "code",
   "execution_count": null,
   "id": "62b5762bfee08101",
   "metadata": {
    "slideshow": {
     "slide_type": "subslide"
    },
    "tags": [
     "subslide"
    ]
   },
   "outputs": [],
   "source": []
  },
  {
   "cell_type": "code",
   "execution_count": null,
   "id": "8ecdc85812d3d0eb",
   "metadata": {},
   "outputs": [],
   "source": []
  },
  {
   "cell_type": "code",
   "execution_count": null,
   "id": "89f3341277cbae69",
   "metadata": {
    "slideshow": {
     "slide_type": "subslide"
    },
    "tags": [
     "subslide"
    ]
   },
   "outputs": [],
   "source": []
  },
  {
   "cell_type": "code",
   "execution_count": null,
   "id": "da625602eeb238de",
   "metadata": {},
   "outputs": [],
   "source": []
  },
  {
   "cell_type": "code",
   "execution_count": null,
   "id": "1393d9891596c323",
   "metadata": {
    "slideshow": {
     "slide_type": "subslide"
    },
    "tags": [
     "subslide"
    ]
   },
   "outputs": [],
   "source": []
  },
  {
   "cell_type": "code",
   "execution_count": null,
   "id": "64b0dd99792540f5",
   "metadata": {},
   "outputs": [],
   "source": []
  }
 ],
 "metadata": {
  "kernelspec": {
   "display_name": "Python 3 (ipykernel)",
   "language": "python",
   "name": "python3"
  },
  "language_info": {
   "codemirror_mode": {
    "name": "ipython",
    "version": 3
   },
   "file_extension": ".py",
   "mimetype": "text/x-python",
   "name": "python",
   "nbconvert_exporter": "python",
   "pygments_lexer": "ipython3"
  }
 },
 "nbformat": 4,
 "nbformat_minor": 5
}
